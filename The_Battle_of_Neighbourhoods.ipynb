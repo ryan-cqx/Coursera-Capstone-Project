{
  "nbformat": 4,
  "nbformat_minor": 0,
  "metadata": {
    "colab": {
      "name": "The Battle of Neighbourhoods.ipynb",
      "provenance": [],
      "collapsed_sections": [],
      "include_colab_link": true
    },
    "kernelspec": {
      "name": "python3",
      "display_name": "Python 3"
    }
  },
  "cells": [
    {
      "cell_type": "markdown",
      "metadata": {
        "id": "view-in-github",
        "colab_type": "text"
      },
      "source": [
        "<a href=\"https://colab.research.google.com/github/ryan-cqx/Coursera-Capstone-Project/blob/master/The_Battle_of_Neighbourhoods.ipynb\" target=\"_parent\"><img src=\"https://colab.research.google.com/assets/colab-badge.svg\" alt=\"Open In Colab\"/></a>"
      ]
    },
    {
      "cell_type": "markdown",
      "metadata": {
        "id": "flNdraiV85C1",
        "colab_type": "text"
      },
      "source": [
        "# **Capstone Project - The Battle of Neighborhoods**\n",
        "\n",
        "\n",
        "This notebook contains my submission of the final assignment of the IBM Data Science Professional Certificate - Coursera"
      ]
    },
    {
      "cell_type": "markdown",
      "metadata": {
        "id": "GJWpVmT6HUTr",
        "colab_type": "text"
      },
      "source": [
        "# **1. Introduction/ Business Problem**\n",
        "\n",
        "**Clearly define a problem or an idea of your choice, where you would need to leverage the Foursquare location data to solve or execute. Remember that data science problems always target an audience and are meant to help a group of stakeholders solve a problem, so make sure that you explicitly describe your audience and why they would care about your problem.**\n",
        "\n",
        "\n",
        "Toronto is a city with a population of approximately 2,731,571 and it is the provincial capital of Ontario, Canada. It is a multi-cultural city is ethinically diverse. \n",
        "\n",
        "\n",
        "This analysis aims to provide tips and guidelines for tourist who are visiting the city. We will look into the crime rate, the neighbourhoods and the most frequented locations. \n",
        "\n",
        "\n",
        "It is known that there are many websites and apps that give advice to travellers however, they rarely mention about the crime rates and the safety of the location. Hence it is clear that there is a need to look into this area of safety. \n",
        "\n",
        "I have been a tourist in many countries and have struggled to find out how dangerous it is to go to certain tourist locations. "
      ]
    },
    {
      "cell_type": "markdown",
      "metadata": {
        "id": "bwX5xiRwKzkV",
        "colab_type": "text"
      },
      "source": [
        "# **2. Data**\n",
        "\n",
        "**Describe the data that you will be using to solve the problem or execute your idea. Remember that you will need to use the Foursquare location data to solve the problem or execute your idea. You can absolutely use other datasets in combination with the Foursquare location data. So make sure that you provide adequate explanation and discussion, with examples, of the data that you will be using, even if it is only Foursquare location data.**\n",
        "\n",
        "\n",
        "\n",
        "**Data of the neighborhoods in Toronto will be extracted from:** https://en.wikipedia.org/wiki/List_of_postal_codes_of_Canada:_M\n",
        "\n",
        "\n",
        "**Data of incidents/crimes that occurred in Toronto:** http://data.torontopolice.on.ca/datasets?q=crime\n",
        "\n",
        "\n",
        "\n",
        "We will scrap the data from the table on Wikipedia which contains the neighbourhood details, borough and postal codes. \n",
        "\n",
        "The geocoder API will be utilized to extract the data and obtain the coordinates of Toronto and the neighborhoods. This will create the main dataframe to be used.\n",
        "\n",
        "The foursquare location API will be utilized to obtain the details of the venue and specific information about the neighborhoods. This will enable us to parse and process the data to construct a formatted table to display the results containing the information retrieved. \n",
        "\n"
      ]
    },
    {
      "cell_type": "markdown",
      "metadata": {
        "id": "yqQzm2BvDQl0",
        "colab_type": "text"
      },
      "source": [
        "## Import Libaries"
      ]
    },
    {
      "cell_type": "code",
      "metadata": {
        "id": "UHuoxcFxdmzQ",
        "colab_type": "code",
        "outputId": "20572959-f4f5-4068-be6a-8625db234107",
        "colab": {
          "base_uri": "https://localhost:8080/",
          "height": 34
        }
      },
      "source": [
        "import requests # library to handle requests\n",
        "import pandas as pd # library for data analsysis\n",
        "import numpy as np # library to handle data in a vectorized manner\n",
        "import random # library for random number generation\n",
        "\n",
        "import json # library to handle JSON files\n",
        "\n",
        "\n",
        "#!conda install -c conda-forge geopy --yes \n",
        "from geopy.geocoders import Nominatim # module to convert an address into latitude and longitude values\n",
        "\n",
        "# libraries for displaying images\n",
        "from IPython.display import Image \n",
        "from IPython.core.display import HTML \n",
        "    \n",
        "# tranforming json file into a pandas dataframe library\n",
        "from pandas.io.json import json_normalize\n",
        "\n",
        "#!conda install -c conda-forge folium=0.5.0 --yes\n",
        "import folium # plotting library\n",
        "\n",
        "# Matplotlib and associated plotting modules\n",
        "import matplotlib.cm as cm\n",
        "import matplotlib.colors as colors\n",
        "import matplotlib.pyplot as plt\n",
        "\n",
        "import requests\n",
        "\n",
        "# import k-means from clustering stage\n",
        "from sklearn.cluster import KMeans\n",
        "\n",
        "\n",
        "print('Libraries imported.')"
      ],
      "execution_count": 3,
      "outputs": [
        {
          "output_type": "stream",
          "text": [
            "Libraries imported.\n"
          ],
          "name": "stdout"
        }
      ]
    },
    {
      "cell_type": "markdown",
      "metadata": {
        "id": "CeJL-LCGCiVw",
        "colab_type": "text"
      },
      "source": [
        "# **Define Foursquare credentials**"
      ]
    },
    {
      "cell_type": "code",
      "metadata": {
        "id": "QX--dmq345z0",
        "colab_type": "code",
        "outputId": "bd2cd175-3020-4543-d3a3-728b4e093850",
        "colab": {
          "base_uri": "https://localhost:8080/",
          "height": 34
        }
      },
      "source": [
        "CLIENT_ID = 'D25WQNG0EPZKVYGZLSFMYNPRRV5ZI5AP5QAH1DPT5SJE5FRA' # your Foursquare ID\n",
        "CLIENT_SECRET = 'HD2HLCGSNTYMXVUII35SCMXWU22FZHBDSWP0D22X0C3NZRRS' # your Foursquare Secret\n",
        "VERSION = '20180605' # Foursquare API version\n",
        "LIMIT = 30\n",
        "\n",
        "print('done')\n"
      ],
      "execution_count": 4,
      "outputs": [
        {
          "output_type": "stream",
          "text": [
            "done\n"
          ],
          "name": "stdout"
        }
      ]
    },
    {
      "cell_type": "markdown",
      "metadata": {
        "id": "wkwY_qVOsFYj",
        "colab_type": "text"
      },
      "source": [
        "# **Analyzing incidents and the crime rate in Toronto**\n",
        "\n",
        "\n",
        "**Source:** http://data.torontopolice.on.ca/datasets?q=crime\n",
        "\n",
        "\n",
        "This Dataset includes all Major Crime Indicators (MCI) from 2014 - 2018 in Toronto. However, it has been filtered to only include 2018 values for the purpose of this analysis.\n",
        "\n",
        "The Major Crime Indicators categories are Assault, Break and Enter,  Auto Theft, Robbery and Theft Over (Excludes Sexual Assaults). "
      ]
    },
    {
      "cell_type": "code",
      "metadata": {
        "id": "e3z9Su7xu8x7",
        "colab_type": "code",
        "outputId": "eeeb81ae-70cb-43af-a0ff-9a1b2dfec967",
        "colab": {
          "base_uri": "https://localhost:8080/",
          "height": 394
        }
      },
      "source": [
        "df_incidents = pd.read_csv('https://raw.githubusercontent.com/ryan-cqx/Coursera-Capstone-Project/master/MCI_2014_to_2018.csv')\n",
        "\n",
        "print('Dataset downloaded and read into a pandas dataframe!')\n",
        "df_incidents.head()\n"
      ],
      "execution_count": 5,
      "outputs": [
        {
          "output_type": "stream",
          "text": [
            "Dataset downloaded and read into a pandas dataframe!\n"
          ],
          "name": "stdout"
        },
        {
          "output_type": "execute_result",
          "data": {
            "text/html": [
              "<div>\n",
              "<style scoped>\n",
              "    .dataframe tbody tr th:only-of-type {\n",
              "        vertical-align: middle;\n",
              "    }\n",
              "\n",
              "    .dataframe tbody tr th {\n",
              "        vertical-align: top;\n",
              "    }\n",
              "\n",
              "    .dataframe thead th {\n",
              "        text-align: right;\n",
              "    }\n",
              "</style>\n",
              "<table border=\"1\" class=\"dataframe\">\n",
              "  <thead>\n",
              "    <tr style=\"text-align: right;\">\n",
              "      <th></th>\n",
              "      <th>X</th>\n",
              "      <th>Y</th>\n",
              "      <th>Index_</th>\n",
              "      <th>event_unique_id</th>\n",
              "      <th>occurrencedate</th>\n",
              "      <th>reporteddate</th>\n",
              "      <th>premisetype</th>\n",
              "      <th>ucr_code</th>\n",
              "      <th>ucr_ext</th>\n",
              "      <th>offence</th>\n",
              "      <th>reportedyear</th>\n",
              "      <th>reportedmonth</th>\n",
              "      <th>reportedday</th>\n",
              "      <th>reporteddayofyear</th>\n",
              "      <th>reporteddayofweek</th>\n",
              "      <th>reportedhour</th>\n",
              "      <th>occurrenceyear</th>\n",
              "      <th>occurrencemonth</th>\n",
              "      <th>occurrenceday</th>\n",
              "      <th>occurrencedayofyear</th>\n",
              "      <th>occurrencedayofweek</th>\n",
              "      <th>occurrencehour</th>\n",
              "      <th>MCI</th>\n",
              "      <th>Division</th>\n",
              "      <th>Hood_ID</th>\n",
              "      <th>Neighbourhood</th>\n",
              "      <th>Lat</th>\n",
              "      <th>Long</th>\n",
              "      <th>ObjectId</th>\n",
              "    </tr>\n",
              "  </thead>\n",
              "  <tbody>\n",
              "    <tr>\n",
              "      <th>0</th>\n",
              "      <td>-79.349564</td>\n",
              "      <td>43.751801</td>\n",
              "      <td>16023</td>\n",
              "      <td>GO-2018173076</td>\n",
              "      <td>2018-01-28T04:07:00.000Z</td>\n",
              "      <td>2018-01-28T04:07:00.000Z</td>\n",
              "      <td>Other</td>\n",
              "      <td>1460</td>\n",
              "      <td>100</td>\n",
              "      <td>Assault Peace Officer</td>\n",
              "      <td>2018</td>\n",
              "      <td>January</td>\n",
              "      <td>28</td>\n",
              "      <td>28</td>\n",
              "      <td>Sunday</td>\n",
              "      <td>4</td>\n",
              "      <td>2018.0</td>\n",
              "      <td>January</td>\n",
              "      <td>28.0</td>\n",
              "      <td>28.0</td>\n",
              "      <td>Sunday</td>\n",
              "      <td>4</td>\n",
              "      <td>Assault</td>\n",
              "      <td>D33</td>\n",
              "      <td>42</td>\n",
              "      <td>Banbury-Don Mills (42)</td>\n",
              "      <td>43.751801</td>\n",
              "      <td>-79.349564</td>\n",
              "      <td>14017</td>\n",
              "    </tr>\n",
              "    <tr>\n",
              "      <th>1</th>\n",
              "      <td>-79.446579</td>\n",
              "      <td>43.781750</td>\n",
              "      <td>15811</td>\n",
              "      <td>GO-2018110752</td>\n",
              "      <td>2018-01-18T11:00:00.000Z</td>\n",
              "      <td>2018-01-18T15:46:00.000Z</td>\n",
              "      <td>House</td>\n",
              "      <td>2120</td>\n",
              "      <td>220</td>\n",
              "      <td>B&amp;E W'Intent</td>\n",
              "      <td>2018</td>\n",
              "      <td>January</td>\n",
              "      <td>18</td>\n",
              "      <td>18</td>\n",
              "      <td>Thursday</td>\n",
              "      <td>15</td>\n",
              "      <td>2018.0</td>\n",
              "      <td>January</td>\n",
              "      <td>18.0</td>\n",
              "      <td>18.0</td>\n",
              "      <td>Thursday</td>\n",
              "      <td>11</td>\n",
              "      <td>Break and Enter</td>\n",
              "      <td>D32</td>\n",
              "      <td>35</td>\n",
              "      <td>Westminster-Branson (35)</td>\n",
              "      <td>43.781750</td>\n",
              "      <td>-79.446579</td>\n",
              "      <td>14021</td>\n",
              "    </tr>\n",
              "    <tr>\n",
              "      <th>2</th>\n",
              "      <td>-79.474754</td>\n",
              "      <td>43.786186</td>\n",
              "      <td>16024</td>\n",
              "      <td>GO-2018177085</td>\n",
              "      <td>2018-01-28T19:50:00.000Z</td>\n",
              "      <td>2018-01-28T20:54:00.000Z</td>\n",
              "      <td>Commercial</td>\n",
              "      <td>1610</td>\n",
              "      <td>180</td>\n",
              "      <td>Robbery - Swarming</td>\n",
              "      <td>2018</td>\n",
              "      <td>January</td>\n",
              "      <td>28</td>\n",
              "      <td>28</td>\n",
              "      <td>Sunday</td>\n",
              "      <td>20</td>\n",
              "      <td>2018.0</td>\n",
              "      <td>January</td>\n",
              "      <td>28.0</td>\n",
              "      <td>28.0</td>\n",
              "      <td>Sunday</td>\n",
              "      <td>19</td>\n",
              "      <td>Robbery</td>\n",
              "      <td>D32</td>\n",
              "      <td>27</td>\n",
              "      <td>York University Heights (27)</td>\n",
              "      <td>43.786186</td>\n",
              "      <td>-79.474754</td>\n",
              "      <td>14022</td>\n",
              "    </tr>\n",
              "    <tr>\n",
              "      <th>3</th>\n",
              "      <td>-79.283165</td>\n",
              "      <td>43.793003</td>\n",
              "      <td>15812</td>\n",
              "      <td>GO-201867724</td>\n",
              "      <td>2018-01-11T19:40:00.000Z</td>\n",
              "      <td>2018-01-11T19:50:00.000Z</td>\n",
              "      <td>House</td>\n",
              "      <td>2120</td>\n",
              "      <td>200</td>\n",
              "      <td>B&amp;E</td>\n",
              "      <td>2018</td>\n",
              "      <td>January</td>\n",
              "      <td>11</td>\n",
              "      <td>11</td>\n",
              "      <td>Thursday</td>\n",
              "      <td>19</td>\n",
              "      <td>2018.0</td>\n",
              "      <td>January</td>\n",
              "      <td>11.0</td>\n",
              "      <td>11.0</td>\n",
              "      <td>Thursday</td>\n",
              "      <td>19</td>\n",
              "      <td>Break and Enter</td>\n",
              "      <td>D42</td>\n",
              "      <td>128</td>\n",
              "      <td>Agincourt South-Malvern West (128)</td>\n",
              "      <td>43.793003</td>\n",
              "      <td>-79.283165</td>\n",
              "      <td>14026</td>\n",
              "    </tr>\n",
              "    <tr>\n",
              "      <th>4</th>\n",
              "      <td>-79.392059</td>\n",
              "      <td>43.645374</td>\n",
              "      <td>16025</td>\n",
              "      <td>GO-2018253179</td>\n",
              "      <td>2018-02-09T14:12:00.000Z</td>\n",
              "      <td>2018-02-09T14:12:00.000Z</td>\n",
              "      <td>Outside</td>\n",
              "      <td>1420</td>\n",
              "      <td>100</td>\n",
              "      <td>Assault With Weapon</td>\n",
              "      <td>2018</td>\n",
              "      <td>February</td>\n",
              "      <td>9</td>\n",
              "      <td>40</td>\n",
              "      <td>Friday</td>\n",
              "      <td>14</td>\n",
              "      <td>2018.0</td>\n",
              "      <td>February</td>\n",
              "      <td>9.0</td>\n",
              "      <td>40.0</td>\n",
              "      <td>Friday</td>\n",
              "      <td>14</td>\n",
              "      <td>Assault</td>\n",
              "      <td>D52</td>\n",
              "      <td>77</td>\n",
              "      <td>Waterfront Communities-The Island (77)</td>\n",
              "      <td>43.645374</td>\n",
              "      <td>-79.392059</td>\n",
              "      <td>14027</td>\n",
              "    </tr>\n",
              "  </tbody>\n",
              "</table>\n",
              "</div>"
            ],
            "text/plain": [
              "           X          Y  Index_  ...        Lat       Long ObjectId\n",
              "0 -79.349564  43.751801   16023  ...  43.751801 -79.349564    14017\n",
              "1 -79.446579  43.781750   15811  ...  43.781750 -79.446579    14021\n",
              "2 -79.474754  43.786186   16024  ...  43.786186 -79.474754    14022\n",
              "3 -79.283165  43.793003   15812  ...  43.793003 -79.283165    14026\n",
              "4 -79.392059  43.645374   16025  ...  43.645374 -79.392059    14027\n",
              "\n",
              "[5 rows x 29 columns]"
            ]
          },
          "metadata": {
            "tags": []
          },
          "execution_count": 5
        }
      ]
    },
    {
      "cell_type": "code",
      "metadata": {
        "id": "X5STn4f5vYPj",
        "colab_type": "code",
        "outputId": "e30b95a5-015b-4962-888a-e85e7096d21c",
        "colab": {
          "base_uri": "https://localhost:8080/",
          "height": 34
        }
      },
      "source": [
        "df_incidents.shape"
      ],
      "execution_count": 6,
      "outputs": [
        {
          "output_type": "execute_result",
          "data": {
            "text/plain": [
              "(36303, 29)"
            ]
          },
          "metadata": {
            "tags": []
          },
          "execution_count": 6
        }
      ]
    },
    {
      "cell_type": "markdown",
      "metadata": {
        "id": "IOf40zTe5u4-",
        "colab_type": "text"
      },
      "source": [
        "Create a bar chart of the incidents that occur throughout the day. This enables us to visualize how the frequency of crimes occur each day."
      ]
    },
    {
      "cell_type": "code",
      "metadata": {
        "id": "Vy9PFmTZaH0k",
        "colab_type": "code",
        "outputId": "096a2800-6e8b-44fa-8155-29ceb4913b62",
        "colab": {
          "base_uri": "https://localhost:8080/",
          "height": 411
        }
      },
      "source": [
        "df_incidents.groupby('reportedhour').count().plot(y = 'event_unique_id', \n",
        "                                                      kind = 'bar',figsize=(10, 6),\n",
        "                                                      width=0.8,\n",
        "                                                      color = '#4169E1'\n",
        "                                                     )\n",
        "\n",
        "\n",
        "plt.xlabel('Hour of Day')\n",
        "plt.ylabel('Count of Incidents per Hour')\n",
        "plt.title('Count of Incidents Per Hour', loc='left', fontsize=18)\n",
        "\n",
        "\n",
        "plt.show()"
      ],
      "execution_count": 7,
      "outputs": [
        {
          "output_type": "display_data",
          "data": {
            "image/png": "[encoded data removed]",
            "text/plain": [
              "<Figure size 720x432 with 1 Axes>"
            ]
          },
          "metadata": {
            "tags": []
          }
        }
      ]
    },
    {
      "cell_type": "markdown",
      "metadata": {
        "id": "ziYfq8XcdHmh",
        "colab_type": "text"
      },
      "source": [
        "As shown above we can see that there is a significant increase in the occurence of crime after 5pm. Hence, this serves as a reminder to tourist to be more cautious when they are travelling in the night."
      ]
    },
    {
      "cell_type": "markdown",
      "metadata": {
        "id": "E4LOG2yG611P",
        "colab_type": "text"
      },
      "source": [
        "**TOP 5 incidents that commonly occur**\n",
        "\n",
        "We would like to analyze the type of crimes that occur the most."
      ]
    },
    {
      "cell_type": "code",
      "metadata": {
        "id": "2Sw9uebUi5vP",
        "colab_type": "code",
        "outputId": "61d31efa-8987-4931-988c-6c0a1e0c651b",
        "colab": {
          "base_uri": "https://localhost:8080/",
          "height": 204
        }
      },
      "source": [
        "# Find the top 5 Incidents that occurred\n",
        "top_crimes = df_incidents[['MCI', 'event_unique_id']].groupby(\n",
        "    ['MCI'], as_index=False).count().sort_values(\n",
        "    'event_unique_id', ascending=False).head(5)\n",
        "top_crimes.head()"
      ],
      "execution_count": 8,
      "outputs": [
        {
          "output_type": "execute_result",
          "data": {
            "text/html": [
              "<div>\n",
              "<style scoped>\n",
              "    .dataframe tbody tr th:only-of-type {\n",
              "        vertical-align: middle;\n",
              "    }\n",
              "\n",
              "    .dataframe tbody tr th {\n",
              "        vertical-align: top;\n",
              "    }\n",
              "\n",
              "    .dataframe thead th {\n",
              "        text-align: right;\n",
              "    }\n",
              "</style>\n",
              "<table border=\"1\" class=\"dataframe\">\n",
              "  <thead>\n",
              "    <tr style=\"text-align: right;\">\n",
              "      <th></th>\n",
              "      <th>MCI</th>\n",
              "      <th>event_unique_id</th>\n",
              "    </tr>\n",
              "  </thead>\n",
              "  <tbody>\n",
              "    <tr>\n",
              "      <th>0</th>\n",
              "      <td>Assault</td>\n",
              "      <td>19327</td>\n",
              "    </tr>\n",
              "    <tr>\n",
              "      <th>2</th>\n",
              "      <td>Break and Enter</td>\n",
              "      <td>7551</td>\n",
              "    </tr>\n",
              "    <tr>\n",
              "      <th>1</th>\n",
              "      <td>Auto Theft</td>\n",
              "      <td>4674</td>\n",
              "    </tr>\n",
              "    <tr>\n",
              "      <th>3</th>\n",
              "      <td>Robbery</td>\n",
              "      <td>3527</td>\n",
              "    </tr>\n",
              "    <tr>\n",
              "      <th>4</th>\n",
              "      <td>Theft Over</td>\n",
              "      <td>1224</td>\n",
              "    </tr>\n",
              "  </tbody>\n",
              "</table>\n",
              "</div>"
            ],
            "text/plain": [
              "               MCI  event_unique_id\n",
              "0          Assault            19327\n",
              "2  Break and Enter             7551\n",
              "1       Auto Theft             4674\n",
              "3          Robbery             3527\n",
              "4       Theft Over             1224"
            ]
          },
          "metadata": {
            "tags": []
          },
          "execution_count": 8
        }
      ]
    },
    {
      "cell_type": "code",
      "metadata": {
        "id": "LkVvJ8ntgWfP",
        "colab_type": "code",
        "outputId": "b970484c-8e35-493b-d7a3-507d8073e89e",
        "colab": {
          "base_uri": "https://localhost:8080/",
          "height": 404
        }
      },
      "source": [
        "# Plot the top 5 Incidents\n",
        "top_crimes.plot(kind='bar', figsize=(10, 6),x='MCI', rot=0)\n",
        "\n",
        "plt.xlabel('Category of Incidents') # add to x-label to the plot\n",
        "plt.ylabel('Number of Incidents') # add y-label to the plot\n",
        "plt.title('Top 5 Crimes in Toronto in 2018') # add title to the plot\n",
        "\n",
        "\n",
        "\n",
        "plt.show()"
      ],
      "execution_count": 9,
      "outputs": [
        {
          "output_type": "display_data",
          "data": {
            "image/png": "[encoded data removed]",
            "text/plain": [
              "<Figure size 720x432 with 1 Axes>"
            ]
          },
          "metadata": {
            "tags": []
          }
        }
      ]
    },
    {
      "cell_type": "markdown",
      "metadata": {
        "id": "Jdw4Fp_x7PkU",
        "colab_type": "text"
      },
      "source": [
        "As shown above, Assault is the most common occuring crime. This could be attributed to the frequented night scene locations in Downtown Toronto. We will look into this in the section below."
      ]
    },
    {
      "cell_type": "markdown",
      "metadata": {
        "id": "ZKHcGiAzthc5",
        "colab_type": "text"
      },
      "source": [
        "# **Visualize the crimes in Toronto on the map** **bold text**"
      ]
    },
    {
      "cell_type": "code",
      "metadata": {
        "id": "JTzzqDJIvzUl",
        "colab_type": "code",
        "colab": {}
      },
      "source": [
        "# Retrieve Json file for San Fransisco\n",
        "!wget --quiet https://opendata.arcgis.com/datasets/98f7dde610b54b9081dfca80be453ac9_0.geojson?where=reportedyear%20%3E%3D%202018%20AND%20reportedyear%20%3C%3D%202018 -O toronto_geo.json "
      ],
      "execution_count": 0,
      "outputs": []
    },
    {
      "cell_type": "code",
      "metadata": {
        "id": "EfTuc3DA0BVL",
        "colab_type": "code",
        "outputId": "880ac048-9bda-4b0b-c5c7-d8d8cbf9e6bc",
        "colab": {
          "base_uri": "https://localhost:8080/",
          "height": 34
        }
      },
      "source": [
        "# get the first 100 crimes in the df_incidents dataframe\n",
        "limit = 100\n",
        "df_incidents = df_incidents.iloc[0:limit, :]\n",
        "df_incidents.shape"
      ],
      "execution_count": 11,
      "outputs": [
        {
          "output_type": "execute_result",
          "data": {
            "text/plain": [
              "(100, 29)"
            ]
          },
          "metadata": {
            "tags": []
          },
          "execution_count": 11
        }
      ]
    },
    {
      "cell_type": "code",
      "metadata": {
        "id": "PjbX8RzN2F8K",
        "colab_type": "code",
        "outputId": "92c8ee3f-0fb4-4000-99cf-4919fa309bed",
        "colab": {
          "base_uri": "https://localhost:8080/",
          "height": 402
        }
      },
      "source": [
        "import folium.plugins as plugins\n",
        "# Toronto latitude and longitude values\n",
        "latitude = 43.653963\n",
        "longitude = -79.387207\n",
        "\n",
        "# let's start again with a clean copy of the map of San Francisco\n",
        "toronto_map = folium.Map(location = [latitude, longitude], zoom_start = 12)\n",
        "\n",
        "# instantiate a mark cluster object for the incidents in the dataframe\n",
        "incidents = plugins.MarkerCluster().add_to(toronto_map)\n",
        " \n",
        "# loop through the dataframe and add each data point to the mark cluster\n",
        "for lat, lng, label, in zip(df_incidents.Y, df_incidents.X, df_incidents.MCI):\n",
        "    folium.Marker(\n",
        "        location=[lat, lng],\n",
        "        icon=None,\n",
        "        popup=label,\n",
        "    ).add_to(incidents)\n",
        "\n",
        "# display map\n",
        "toronto_map"
      ],
      "execution_count": 12,
      "outputs": [
        {
          "output_type": "execute_result",
          "data": {
            "text/html": [
              "<div style=\"width:100%;\"><div style=\"position:relative;width:100%;height:0;padding-bottom:60%;\"><iframe src=\"data:text/html;charset=utf-8;base64,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\" style=\"position:absolute;width:100%;height:100%;left:0;top:0;border:none !important;\" allowfullscreen webkitallowfullscreen mozallowfullscreen></iframe></div></div>"
            ],
            "text/plain": [
              "<folium.folium.Map at 0x7f38a09a5cf8>"
            ]
          },
          "metadata": {
            "tags": []
          },
          "execution_count": 12
        }
      ]
    },
    {
      "cell_type": "markdown",
      "metadata": {
        "id": "zbRqctZu9HvP",
        "colab_type": "text"
      },
      "source": [
        "It can be observed that there is a large concentration of crimes occuring in downtown Toronto. As Downtown Toronto has many points of interest and is frquented by Tourist, we will focus our analysis in that area."
      ]
    },
    {
      "cell_type": "markdown",
      "metadata": {
        "id": "T8RYfrYAKGWb",
        "colab_type": "text"
      },
      "source": [
        "# **Neighbourhoods in Toronto**"
      ]
    },
    {
      "cell_type": "code",
      "metadata": {
        "id": "Cpyfi8jdKFsy",
        "colab_type": "code",
        "outputId": "b9caa28d-97dd-4cbb-ffed-c00382bc6cf7",
        "colab": {
          "base_uri": "https://localhost:8080/",
          "height": 255
        }
      },
      "source": [
        "df_Toronto = pd.read_csv('https://raw.githubusercontent.com/ryan-cqx/Coursera-Capstone-Project/master/df_toronto_final.csv')\n",
        "\n",
        "df_Toronto.head()"
      ],
      "execution_count": 13,
      "outputs": [
        {
          "output_type": "execute_result",
          "data": {
            "text/html": [
              "<div>\n",
              "<style scoped>\n",
              "    .dataframe tbody tr th:only-of-type {\n",
              "        vertical-align: middle;\n",
              "    }\n",
              "\n",
              "    .dataframe tbody tr th {\n",
              "        vertical-align: top;\n",
              "    }\n",
              "\n",
              "    .dataframe thead th {\n",
              "        text-align: right;\n",
              "    }\n",
              "</style>\n",
              "<table border=\"1\" class=\"dataframe\">\n",
              "  <thead>\n",
              "    <tr style=\"text-align: right;\">\n",
              "      <th></th>\n",
              "      <th>Unnamed: 0</th>\n",
              "      <th>Postcode</th>\n",
              "      <th>Borough</th>\n",
              "      <th>Neighbourhood</th>\n",
              "      <th>Latitude</th>\n",
              "      <th>Longitude</th>\n",
              "    </tr>\n",
              "  </thead>\n",
              "  <tbody>\n",
              "    <tr>\n",
              "      <th>0</th>\n",
              "      <td>0</td>\n",
              "      <td>M1B</td>\n",
              "      <td>Scarborough</td>\n",
              "      <td>Rouge, Malvern</td>\n",
              "      <td>43.806686</td>\n",
              "      <td>-79.194353</td>\n",
              "    </tr>\n",
              "    <tr>\n",
              "      <th>1</th>\n",
              "      <td>1</td>\n",
              "      <td>M1C</td>\n",
              "      <td>Scarborough</td>\n",
              "      <td>Highland Creek, Rouge Hill, Port Union</td>\n",
              "      <td>43.784535</td>\n",
              "      <td>-79.160497</td>\n",
              "    </tr>\n",
              "    <tr>\n",
              "      <th>2</th>\n",
              "      <td>2</td>\n",
              "      <td>M1E</td>\n",
              "      <td>Scarborough</td>\n",
              "      <td>Guildwood, Morningside, West Hill</td>\n",
              "      <td>43.763573</td>\n",
              "      <td>-79.188711</td>\n",
              "    </tr>\n",
              "    <tr>\n",
              "      <th>3</th>\n",
              "      <td>3</td>\n",
              "      <td>M1G</td>\n",
              "      <td>Scarborough</td>\n",
              "      <td>Woburn</td>\n",
              "      <td>43.770992</td>\n",
              "      <td>-79.216917</td>\n",
              "    </tr>\n",
              "    <tr>\n",
              "      <th>4</th>\n",
              "      <td>4</td>\n",
              "      <td>M1H</td>\n",
              "      <td>Scarborough</td>\n",
              "      <td>Cedarbrae</td>\n",
              "      <td>43.773136</td>\n",
              "      <td>-79.239476</td>\n",
              "    </tr>\n",
              "  </tbody>\n",
              "</table>\n",
              "</div>"
            ],
            "text/plain": [
              "   Unnamed: 0 Postcode  ...   Latitude  Longitude\n",
              "0           0      M1B  ...  43.806686 -79.194353\n",
              "1           1      M1C  ...  43.784535 -79.160497\n",
              "2           2      M1E  ...  43.763573 -79.188711\n",
              "3           3      M1G  ...  43.770992 -79.216917\n",
              "4           4      M1H  ...  43.773136 -79.239476\n",
              "\n",
              "[5 rows x 6 columns]"
            ]
          },
          "metadata": {
            "tags": []
          },
          "execution_count": 13
        }
      ]
    },
    {
      "cell_type": "markdown",
      "metadata": {
        "id": "YS4TNX6VLVnV",
        "colab_type": "text"
      },
      "source": [
        "**Lets visualize the neighbourhoods in Toronto**\n",
        "\n",
        "The city of Toronto is made up of 140 neighbourhoods. Toronto is known to be made up of different ethnic groups and has many cultures.\n",
        "\n",
        "\n",
        "The boundaries for these neighbourhoods were developed using the following criteria:\n",
        "\n",
        "originally based on an Urban Development Services Residential Communities map, based on planning areas in former municipalities, and existing Public Health neighbourhood planning areas;\n",
        "no neighbourhood be comprised of a single census tract;\n",
        "minimum neighbourhood population of at least 7,000 to 10,000;\n",
        "where census tracts were combined to meet criteria 2 or 3 above, they were joined with the most similar adjacent area according to the percentage of the population living in low income households;\n",
        "respecting existing boundaries such as service boundaries of community agencies, natural boundaries (rivers), and man-made boundaries (streets, highways, etc.);\n",
        "maintaining neighbourhood areas small enough for service organizations to combine them to fit within their service area; and\n",
        "the final number of neighbourhood areas be manageable for the purposes of data presentation and reporting.\n",
        "\n",
        "Source: https://www.toronto.ca/city-government/data-research-maps/neighbourhoods-communities/neighbourhood-profiles/"
      ]
    },
    {
      "cell_type": "code",
      "metadata": {
        "id": "2Df_bRwmLw8i",
        "colab_type": "code",
        "outputId": "fb53eb99-4bbe-48be-9ef7-e72301c89b17",
        "colab": {
          "base_uri": "https://localhost:8080/",
          "height": 402
        }
      },
      "source": [
        "# create map of Toronto using latitude and longitude values\n",
        "map_toronto = folium.Map(location=[latitude, longitude], zoom_start=10)\n",
        "\n",
        "# add markers to map\n",
        "for lat, lng, borough, neighbourhood in zip(df_Toronto['Latitude'], df_Toronto['Longitude'], df_Toronto['Borough'], df_Toronto['Neighbourhood']):\n",
        "    label = '{}, {}'.format(neighbourhood, borough)\n",
        "    label = folium.Popup(label, parse_html=True)\n",
        "    folium.CircleMarker(\n",
        "        [lat, lng],\n",
        "        radius=5,\n",
        "        popup=label,\n",
        "        color='blue',\n",
        "        fill=True,\n",
        "        fill_color='#3186cc',\n",
        "        fill_opacity=0.7,\n",
        "        parse_html=False).add_to(map_toronto)  \n",
        "    \n",
        "map_toronto"
      ],
      "execution_count": 14,
      "outputs": [
        {
          "output_type": "execute_result",
          "data": {
            "text/html": [
              "<div style=\"width:100%;\"><div style=\"position:relative;width:100%;height:0;padding-bottom:60%;\"><iframe src=\"data:text/html;charset=utf-8;base64,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\" style=\"position:absolute;width:100%;height:100%;left:0;top:0;border:none !important;\" allowfullscreen webkitallowfullscreen mozallowfullscreen></iframe></div></div>"
            ],
            "text/plain": [
              "<folium.folium.Map at 0x7f38a0416400>"
            ]
          },
          "metadata": {
            "tags": []
          },
          "execution_count": 14
        }
      ]
    },
    {
      "cell_type": "markdown",
      "metadata": {
        "id": "MfYCgsFqMp1-",
        "colab_type": "text"
      },
      "source": [
        "**Looking at Downtown Toronto**\n",
        "\n",
        "As stated previously we will be looking at the tourist locations and most frequented areas in Downtown Toronto"
      ]
    },
    {
      "cell_type": "code",
      "metadata": {
        "id": "-33ESgvxL3IC",
        "colab_type": "code",
        "outputId": "e53a165b-264f-4103-d0c3-a5695bfc27c6",
        "colab": {
          "base_uri": "https://localhost:8080/",
          "height": 306
        }
      },
      "source": [
        "DT_Toronto_data = df_Toronto[df_Toronto['Borough'] == 'Downtown Toronto'].reset_index(drop=True)\n",
        "DT_Toronto_data.head()"
      ],
      "execution_count": 15,
      "outputs": [
        {
          "output_type": "execute_result",
          "data": {
            "text/html": [
              "<div>\n",
              "<style scoped>\n",
              "    .dataframe tbody tr th:only-of-type {\n",
              "        vertical-align: middle;\n",
              "    }\n",
              "\n",
              "    .dataframe tbody tr th {\n",
              "        vertical-align: top;\n",
              "    }\n",
              "\n",
              "    .dataframe thead th {\n",
              "        text-align: right;\n",
              "    }\n",
              "</style>\n",
              "<table border=\"1\" class=\"dataframe\">\n",
              "  <thead>\n",
              "    <tr style=\"text-align: right;\">\n",
              "      <th></th>\n",
              "      <th>Unnamed: 0</th>\n",
              "      <th>Postcode</th>\n",
              "      <th>Borough</th>\n",
              "      <th>Neighbourhood</th>\n",
              "      <th>Latitude</th>\n",
              "      <th>Longitude</th>\n",
              "    </tr>\n",
              "  </thead>\n",
              "  <tbody>\n",
              "    <tr>\n",
              "      <th>0</th>\n",
              "      <td>50</td>\n",
              "      <td>M4W</td>\n",
              "      <td>Downtown Toronto</td>\n",
              "      <td>Rosedale</td>\n",
              "      <td>43.679563</td>\n",
              "      <td>-79.377529</td>\n",
              "    </tr>\n",
              "    <tr>\n",
              "      <th>1</th>\n",
              "      <td>51</td>\n",
              "      <td>M4X</td>\n",
              "      <td>Downtown Toronto</td>\n",
              "      <td>Cabbagetown, St. James Town</td>\n",
              "      <td>43.667967</td>\n",
              "      <td>-79.367675</td>\n",
              "    </tr>\n",
              "    <tr>\n",
              "      <th>2</th>\n",
              "      <td>52</td>\n",
              "      <td>M4Y</td>\n",
              "      <td>Downtown Toronto</td>\n",
              "      <td>Church and Wellesley</td>\n",
              "      <td>43.665860</td>\n",
              "      <td>-79.383160</td>\n",
              "    </tr>\n",
              "    <tr>\n",
              "      <th>3</th>\n",
              "      <td>53</td>\n",
              "      <td>M5A</td>\n",
              "      <td>Downtown Toronto</td>\n",
              "      <td>Harbourfront, Regent Park</td>\n",
              "      <td>43.654260</td>\n",
              "      <td>-79.360636</td>\n",
              "    </tr>\n",
              "    <tr>\n",
              "      <th>4</th>\n",
              "      <td>54</td>\n",
              "      <td>M5B</td>\n",
              "      <td>Downtown Toronto</td>\n",
              "      <td>Ryerson, Garden District</td>\n",
              "      <td>43.657162</td>\n",
              "      <td>-79.378937</td>\n",
              "    </tr>\n",
              "  </tbody>\n",
              "</table>\n",
              "</div>"
            ],
            "text/plain": [
              "   Unnamed: 0 Postcode  ...   Latitude  Longitude\n",
              "0          50      M4W  ...  43.679563 -79.377529\n",
              "1          51      M4X  ...  43.667967 -79.367675\n",
              "2          52      M4Y  ...  43.665860 -79.383160\n",
              "3          53      M5A  ...  43.654260 -79.360636\n",
              "4          54      M5B  ...  43.657162 -79.378937\n",
              "\n",
              "[5 rows x 6 columns]"
            ]
          },
          "metadata": {
            "tags": []
          },
          "execution_count": 15
        }
      ]
    },
    {
      "cell_type": "code",
      "metadata": {
        "id": "W42OLCwU4wJl",
        "colab_type": "code",
        "colab": {
          "base_uri": "https://localhost:8080/",
          "height": 402
        },
        "outputId": "48f460cd-f966-44f5-9738-acc5559625cd"
      },
      "source": [
        "# create map of Toronto using latitude and longitude values\n",
        "map_DT_toronto = folium.Map(location=[latitude, longitude], zoom_start=12)\n",
        "\n",
        "# add markers to map\n",
        "for lat, lng, borough, neighbourhood in zip(DT_Toronto_data['Latitude'], DT_Toronto_data['Longitude'], DT_Toronto_data['Borough'], DT_Toronto_data['Neighbourhood']):\n",
        "    label = '{}, {}'.format(neighbourhood, borough)\n",
        "    label = folium.Popup(label, parse_html=True)\n",
        "    folium.CircleMarker(\n",
        "        [lat, lng],\n",
        "        radius=5,\n",
        "        popup=label,\n",
        "        color='blue',\n",
        "        fill=True,\n",
        "        fill_color='#3186cc',\n",
        "        fill_opacity=0.7,\n",
        "        parse_html=False).add_to(map_DT_toronto)  \n",
        "    \n",
        "map_DT_toronto"
      ],
      "execution_count": 35,
      "outputs": [
        {
          "output_type": "execute_result",
          "data": {
            "text/html": [
              "<div style=\"width:100%;\"><div style=\"position:relative;width:100%;height:0;padding-bottom:60%;\"><iframe src=\"data:text/html;charset=utf-8;base64,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\" style=\"position:absolute;width:100%;height:100%;left:0;top:0;border:none !important;\" allowfullscreen webkitallowfullscreen mozallowfullscreen></iframe></div></div>"
            ],
            "text/plain": [
              "<folium.folium.Map at 0x7f38a3268f28>"
            ]
          },
          "metadata": {
            "tags": []
          },
          "execution_count": 35
        }
      ]
    },
    {
      "cell_type": "code",
      "metadata": {
        "id": "-NMv18PiNEBr",
        "colab_type": "code",
        "colab": {}
      },
      "source": [
        "# Function to generate a list of venues\n",
        "def getNearbyVenues(names, latitudes, longitudes, radius=500):\n",
        "    \n",
        "    venues_list=[]\n",
        "    for name, lat, lng in zip(names, latitudes, longitudes):\n",
        "        print(name)\n",
        "            \n",
        "        # create the API request URL\n",
        "        url = 'https://api.foursquare.com/v2/venues/explore?&client_id={}&client_secret={}&v={}&ll={},{}&radius={}&limit={}'.format(\n",
        "            CLIENT_ID, \n",
        "            CLIENT_SECRET, \n",
        "            VERSION, \n",
        "            lat, \n",
        "            lng, \n",
        "            radius, \n",
        "            LIMIT)\n",
        "            \n",
        "        # make the GET request\n",
        "        results = requests.get(url).json()[\"response\"]['groups'][0]['items']\n",
        "        \n",
        "        # return only relevant information for each nearby venue\n",
        "        venues_list.append([(\n",
        "            name, \n",
        "            lat, \n",
        "            lng, \n",
        "            v['venue']['name'], \n",
        "            v['venue']['location']['lat'], \n",
        "            v['venue']['location']['lng'],  \n",
        "            v['venue']['categories'][0]['name']) for v in results])\n",
        "\n",
        "    nearby_venues = pd.DataFrame([item for venue_list in venues_list for item in venue_list])\n",
        "    nearby_venues.columns = ['Neighbourhood', \n",
        "                  'Neighbourhood Latitude', \n",
        "                  'Neighbourhood Longitude', \n",
        "                  'Venue', \n",
        "                  'Venue Latitude', \n",
        "                  'Venue Longitude', \n",
        "                  'Venue Category']\n",
        "    \n",
        "    return(nearby_venues)"
      ],
      "execution_count": 0,
      "outputs": []
    },
    {
      "cell_type": "markdown",
      "metadata": {
        "id": "439sSMEuOxmO",
        "colab_type": "text"
      },
      "source": [
        "**Create new dataFrame of venues in Downtown Toronto**"
      ]
    },
    {
      "cell_type": "code",
      "metadata": {
        "id": "CjAia9h_Or9E",
        "colab_type": "code",
        "outputId": "a27f2fe6-13ac-42b3-c15a-ea1dcc7c3d44",
        "colab": {
          "base_uri": "https://localhost:8080/",
          "height": 343
        }
      },
      "source": [
        "DT_Toronto_venues = getNearbyVenues(names=DT_Toronto_data['Neighbourhood'],\n",
        "                                   latitudes=DT_Toronto_data['Latitude'],\n",
        "                                   longitudes=DT_Toronto_data['Longitude']\n",
        "                                  )\n",
        "\n"
      ],
      "execution_count": 18,
      "outputs": [
        {
          "output_type": "stream",
          "text": [
            "Rosedale\n",
            "Cabbagetown, St. James Town\n",
            "Church and Wellesley\n",
            "Harbourfront, Regent Park\n",
            "Ryerson, Garden District\n",
            "St. James Town\n",
            "Berczy Park\n",
            "Central Bay Street\n",
            "Adelaide, King, Richmond\n",
            "Harbourfront East, Toronto Islands, Union Station\n",
            "Design Exchange, Toronto Dominion Centre\n",
            "Commerce Court, Victoria Hotel\n",
            "Harbord, University of Toronto\n",
            "Chinatown, Grange Park, Kensington Market\n",
            "CN Tower, Bathurst Quay, Island airport, Harbourfront West, King and Spadina, Railway Lands, South Niagara\n",
            "Stn A PO Boxes 25 The Esplanade\n",
            "First Canadian Place, Underground city\n",
            "Christie\n"
          ],
          "name": "stdout"
        }
      ]
    },
    {
      "cell_type": "markdown",
      "metadata": {
        "id": "sKJ8mydMPO-G",
        "colab_type": "text"
      },
      "source": [
        "# **Analyze the neighbourhoods in Downtown Toronto**\n",
        "\n",
        "\n",
        "We would like to find out the most frequented locations in each neighbourhood"
      ]
    },
    {
      "cell_type": "code",
      "metadata": {
        "id": "MgWOKpvmPExU",
        "colab_type": "code",
        "outputId": "aafdfaa4-5e39-41ce-d599-afe98bbd4844",
        "colab": {
          "base_uri": "https://localhost:8080/",
          "height": 287
        }
      },
      "source": [
        "# one hot encoding\n",
        "DT_Toronto_onehot = pd.get_dummies(DT_Toronto_venues[['Venue Category']], prefix=\"\", prefix_sep=\"\")\n",
        "\n",
        "# add neighbourhood column back to dataframe\n",
        "DT_Toronto_onehot['Neighbourhood'] = DT_Toronto_venues['Neighbourhood'] \n",
        "\n",
        "# move neighbourhood column to the first column\n",
        "fixed_columns = [DT_Toronto_onehot.columns[-1]] + list(DT_Toronto_onehot.columns[:-1])\n",
        "DT_Toronto_onehot = DT_Toronto_onehot[fixed_columns]\n",
        "\n",
        "DT_Toronto_onehot.head()"
      ],
      "execution_count": 19,
      "outputs": [
        {
          "output_type": "execute_result",
          "data": {
            "text/html": [
              "<div>\n",
              "<style scoped>\n",
              "    .dataframe tbody tr th:only-of-type {\n",
              "        vertical-align: middle;\n",
              "    }\n",
              "\n",
              "    .dataframe tbody tr th {\n",
              "        vertical-align: top;\n",
              "    }\n",
              "\n",
              "    .dataframe thead th {\n",
              "        text-align: right;\n",
              "    }\n",
              "</style>\n",
              "<table border=\"1\" class=\"dataframe\">\n",
              "  <thead>\n",
              "    <tr style=\"text-align: right;\">\n",
              "      <th></th>\n",
              "      <th>Neighbourhood</th>\n",
              "      <th>Airport</th>\n",
              "      <th>Airport Food Court</th>\n",
              "      <th>Airport Lounge</th>\n",
              "      <th>Airport Service</th>\n",
              "      <th>Airport Terminal</th>\n",
              "      <th>American Restaurant</th>\n",
              "      <th>Aquarium</th>\n",
              "      <th>Art Gallery</th>\n",
              "      <th>Arts &amp; Crafts Store</th>\n",
              "      <th>Asian Restaurant</th>\n",
              "      <th>BBQ Joint</th>\n",
              "      <th>Baby Store</th>\n",
              "      <th>Bakery</th>\n",
              "      <th>Bank</th>\n",
              "      <th>Bar</th>\n",
              "      <th>Basketball Stadium</th>\n",
              "      <th>Beer Bar</th>\n",
              "      <th>Beer Store</th>\n",
              "      <th>Belgian Restaurant</th>\n",
              "      <th>Bistro</th>\n",
              "      <th>Boat or Ferry</th>\n",
              "      <th>Bookstore</th>\n",
              "      <th>Boutique</th>\n",
              "      <th>Breakfast Spot</th>\n",
              "      <th>Bubble Tea Shop</th>\n",
              "      <th>Building</th>\n",
              "      <th>Burger Joint</th>\n",
              "      <th>Burrito Place</th>\n",
              "      <th>Butcher</th>\n",
              "      <th>Café</th>\n",
              "      <th>Caribbean Restaurant</th>\n",
              "      <th>Cheese Shop</th>\n",
              "      <th>Chinese Restaurant</th>\n",
              "      <th>Chocolate Shop</th>\n",
              "      <th>Church</th>\n",
              "      <th>Clothing Store</th>\n",
              "      <th>Cocktail Bar</th>\n",
              "      <th>Coffee Shop</th>\n",
              "      <th>College Arts Building</th>\n",
              "      <th>...</th>\n",
              "      <th>Pet Store</th>\n",
              "      <th>Pizza Place</th>\n",
              "      <th>Plane</th>\n",
              "      <th>Playground</th>\n",
              "      <th>Plaza</th>\n",
              "      <th>Poke Place</th>\n",
              "      <th>Portuguese Restaurant</th>\n",
              "      <th>Pub</th>\n",
              "      <th>Ramen Restaurant</th>\n",
              "      <th>Restaurant</th>\n",
              "      <th>Roof Deck</th>\n",
              "      <th>Salad Place</th>\n",
              "      <th>Salon / Barbershop</th>\n",
              "      <th>Sandwich Place</th>\n",
              "      <th>Sculpture Garden</th>\n",
              "      <th>Seafood Restaurant</th>\n",
              "      <th>Skating Rink</th>\n",
              "      <th>Smoke Shop</th>\n",
              "      <th>Snack Place</th>\n",
              "      <th>Spa</th>\n",
              "      <th>Speakeasy</th>\n",
              "      <th>Sporting Goods Shop</th>\n",
              "      <th>Sports Bar</th>\n",
              "      <th>Steakhouse</th>\n",
              "      <th>Supermarket</th>\n",
              "      <th>Sushi Restaurant</th>\n",
              "      <th>Taco Place</th>\n",
              "      <th>Tailor Shop</th>\n",
              "      <th>Taiwanese Restaurant</th>\n",
              "      <th>Tea Room</th>\n",
              "      <th>Thai Restaurant</th>\n",
              "      <th>Theater</th>\n",
              "      <th>Theme Restaurant</th>\n",
              "      <th>Trail</th>\n",
              "      <th>Train Station</th>\n",
              "      <th>Vegetarian / Vegan Restaurant</th>\n",
              "      <th>Video Game Store</th>\n",
              "      <th>Vietnamese Restaurant</th>\n",
              "      <th>Wine Bar</th>\n",
              "      <th>Yoga Studio</th>\n",
              "    </tr>\n",
              "  </thead>\n",
              "  <tbody>\n",
              "    <tr>\n",
              "      <th>0</th>\n",
              "      <td>Rosedale</td>\n",
              "      <td>0</td>\n",
              "      <td>0</td>\n",
              "      <td>0</td>\n",
              "      <td>0</td>\n",
              "      <td>0</td>\n",
              "      <td>0</td>\n",
              "      <td>0</td>\n",
              "      <td>0</td>\n",
              "      <td>0</td>\n",
              "      <td>0</td>\n",
              "      <td>0</td>\n",
              "      <td>0</td>\n",
              "      <td>0</td>\n",
              "      <td>0</td>\n",
              "      <td>0</td>\n",
              "      <td>0</td>\n",
              "      <td>0</td>\n",
              "      <td>0</td>\n",
              "      <td>0</td>\n",
              "      <td>0</td>\n",
              "      <td>0</td>\n",
              "      <td>0</td>\n",
              "      <td>0</td>\n",
              "      <td>0</td>\n",
              "      <td>0</td>\n",
              "      <td>1</td>\n",
              "      <td>0</td>\n",
              "      <td>0</td>\n",
              "      <td>0</td>\n",
              "      <td>0</td>\n",
              "      <td>0</td>\n",
              "      <td>0</td>\n",
              "      <td>0</td>\n",
              "      <td>0</td>\n",
              "      <td>0</td>\n",
              "      <td>0</td>\n",
              "      <td>0</td>\n",
              "      <td>0</td>\n",
              "      <td>0</td>\n",
              "      <td>...</td>\n",
              "      <td>0</td>\n",
              "      <td>0</td>\n",
              "      <td>0</td>\n",
              "      <td>0</td>\n",
              "      <td>0</td>\n",
              "      <td>0</td>\n",
              "      <td>0</td>\n",
              "      <td>0</td>\n",
              "      <td>0</td>\n",
              "      <td>0</td>\n",
              "      <td>0</td>\n",
              "      <td>0</td>\n",
              "      <td>0</td>\n",
              "      <td>0</td>\n",
              "      <td>0</td>\n",
              "      <td>0</td>\n",
              "      <td>0</td>\n",
              "      <td>0</td>\n",
              "      <td>0</td>\n",
              "      <td>0</td>\n",
              "      <td>0</td>\n",
              "      <td>0</td>\n",
              "      <td>0</td>\n",
              "      <td>0</td>\n",
              "      <td>0</td>\n",
              "      <td>0</td>\n",
              "      <td>0</td>\n",
              "      <td>0</td>\n",
              "      <td>0</td>\n",
              "      <td>0</td>\n",
              "      <td>0</td>\n",
              "      <td>0</td>\n",
              "      <td>0</td>\n",
              "      <td>0</td>\n",
              "      <td>0</td>\n",
              "      <td>0</td>\n",
              "      <td>0</td>\n",
              "      <td>0</td>\n",
              "      <td>0</td>\n",
              "      <td>0</td>\n",
              "    </tr>\n",
              "    <tr>\n",
              "      <th>1</th>\n",
              "      <td>Rosedale</td>\n",
              "      <td>0</td>\n",
              "      <td>0</td>\n",
              "      <td>0</td>\n",
              "      <td>0</td>\n",
              "      <td>0</td>\n",
              "      <td>0</td>\n",
              "      <td>0</td>\n",
              "      <td>0</td>\n",
              "      <td>0</td>\n",
              "      <td>0</td>\n",
              "      <td>0</td>\n",
              "      <td>0</td>\n",
              "      <td>0</td>\n",
              "      <td>0</td>\n",
              "      <td>0</td>\n",
              "      <td>0</td>\n",
              "      <td>0</td>\n",
              "      <td>0</td>\n",
              "      <td>0</td>\n",
              "      <td>0</td>\n",
              "      <td>0</td>\n",
              "      <td>0</td>\n",
              "      <td>0</td>\n",
              "      <td>0</td>\n",
              "      <td>0</td>\n",
              "      <td>0</td>\n",
              "      <td>0</td>\n",
              "      <td>0</td>\n",
              "      <td>0</td>\n",
              "      <td>0</td>\n",
              "      <td>0</td>\n",
              "      <td>0</td>\n",
              "      <td>0</td>\n",
              "      <td>0</td>\n",
              "      <td>0</td>\n",
              "      <td>0</td>\n",
              "      <td>0</td>\n",
              "      <td>0</td>\n",
              "      <td>0</td>\n",
              "      <td>...</td>\n",
              "      <td>0</td>\n",
              "      <td>0</td>\n",
              "      <td>0</td>\n",
              "      <td>1</td>\n",
              "      <td>0</td>\n",
              "      <td>0</td>\n",
              "      <td>0</td>\n",
              "      <td>0</td>\n",
              "      <td>0</td>\n",
              "      <td>0</td>\n",
              "      <td>0</td>\n",
              "      <td>0</td>\n",
              "      <td>0</td>\n",
              "      <td>0</td>\n",
              "      <td>0</td>\n",
              "      <td>0</td>\n",
              "      <td>0</td>\n",
              "      <td>0</td>\n",
              "      <td>0</td>\n",
              "      <td>0</td>\n",
              "      <td>0</td>\n",
              "      <td>0</td>\n",
              "      <td>0</td>\n",
              "      <td>0</td>\n",
              "      <td>0</td>\n",
              "      <td>0</td>\n",
              "      <td>0</td>\n",
              "      <td>0</td>\n",
              "      <td>0</td>\n",
              "      <td>0</td>\n",
              "      <td>0</td>\n",
              "      <td>0</td>\n",
              "      <td>0</td>\n",
              "      <td>0</td>\n",
              "      <td>0</td>\n",
              "      <td>0</td>\n",
              "      <td>0</td>\n",
              "      <td>0</td>\n",
              "      <td>0</td>\n",
              "      <td>0</td>\n",
              "    </tr>\n",
              "    <tr>\n",
              "      <th>2</th>\n",
              "      <td>Rosedale</td>\n",
              "      <td>0</td>\n",
              "      <td>0</td>\n",
              "      <td>0</td>\n",
              "      <td>0</td>\n",
              "      <td>0</td>\n",
              "      <td>0</td>\n",
              "      <td>0</td>\n",
              "      <td>0</td>\n",
              "      <td>0</td>\n",
              "      <td>0</td>\n",
              "      <td>0</td>\n",
              "      <td>0</td>\n",
              "      <td>0</td>\n",
              "      <td>0</td>\n",
              "      <td>0</td>\n",
              "      <td>0</td>\n",
              "      <td>0</td>\n",
              "      <td>0</td>\n",
              "      <td>0</td>\n",
              "      <td>0</td>\n",
              "      <td>0</td>\n",
              "      <td>0</td>\n",
              "      <td>0</td>\n",
              "      <td>0</td>\n",
              "      <td>0</td>\n",
              "      <td>0</td>\n",
              "      <td>0</td>\n",
              "      <td>0</td>\n",
              "      <td>0</td>\n",
              "      <td>0</td>\n",
              "      <td>0</td>\n",
              "      <td>0</td>\n",
              "      <td>0</td>\n",
              "      <td>0</td>\n",
              "      <td>0</td>\n",
              "      <td>0</td>\n",
              "      <td>0</td>\n",
              "      <td>0</td>\n",
              "      <td>0</td>\n",
              "      <td>...</td>\n",
              "      <td>0</td>\n",
              "      <td>0</td>\n",
              "      <td>0</td>\n",
              "      <td>0</td>\n",
              "      <td>0</td>\n",
              "      <td>0</td>\n",
              "      <td>0</td>\n",
              "      <td>0</td>\n",
              "      <td>0</td>\n",
              "      <td>0</td>\n",
              "      <td>0</td>\n",
              "      <td>0</td>\n",
              "      <td>0</td>\n",
              "      <td>0</td>\n",
              "      <td>0</td>\n",
              "      <td>0</td>\n",
              "      <td>0</td>\n",
              "      <td>0</td>\n",
              "      <td>0</td>\n",
              "      <td>0</td>\n",
              "      <td>0</td>\n",
              "      <td>0</td>\n",
              "      <td>0</td>\n",
              "      <td>0</td>\n",
              "      <td>0</td>\n",
              "      <td>0</td>\n",
              "      <td>0</td>\n",
              "      <td>0</td>\n",
              "      <td>0</td>\n",
              "      <td>0</td>\n",
              "      <td>0</td>\n",
              "      <td>0</td>\n",
              "      <td>0</td>\n",
              "      <td>0</td>\n",
              "      <td>0</td>\n",
              "      <td>0</td>\n",
              "      <td>0</td>\n",
              "      <td>0</td>\n",
              "      <td>0</td>\n",
              "      <td>0</td>\n",
              "    </tr>\n",
              "    <tr>\n",
              "      <th>3</th>\n",
              "      <td>Rosedale</td>\n",
              "      <td>0</td>\n",
              "      <td>0</td>\n",
              "      <td>0</td>\n",
              "      <td>0</td>\n",
              "      <td>0</td>\n",
              "      <td>0</td>\n",
              "      <td>0</td>\n",
              "      <td>0</td>\n",
              "      <td>0</td>\n",
              "      <td>0</td>\n",
              "      <td>0</td>\n",
              "      <td>0</td>\n",
              "      <td>0</td>\n",
              "      <td>0</td>\n",
              "      <td>0</td>\n",
              "      <td>0</td>\n",
              "      <td>0</td>\n",
              "      <td>0</td>\n",
              "      <td>0</td>\n",
              "      <td>0</td>\n",
              "      <td>0</td>\n",
              "      <td>0</td>\n",
              "      <td>0</td>\n",
              "      <td>0</td>\n",
              "      <td>0</td>\n",
              "      <td>0</td>\n",
              "      <td>0</td>\n",
              "      <td>0</td>\n",
              "      <td>0</td>\n",
              "      <td>0</td>\n",
              "      <td>0</td>\n",
              "      <td>0</td>\n",
              "      <td>0</td>\n",
              "      <td>0</td>\n",
              "      <td>0</td>\n",
              "      <td>0</td>\n",
              "      <td>0</td>\n",
              "      <td>0</td>\n",
              "      <td>0</td>\n",
              "      <td>...</td>\n",
              "      <td>0</td>\n",
              "      <td>0</td>\n",
              "      <td>0</td>\n",
              "      <td>0</td>\n",
              "      <td>0</td>\n",
              "      <td>0</td>\n",
              "      <td>0</td>\n",
              "      <td>0</td>\n",
              "      <td>0</td>\n",
              "      <td>0</td>\n",
              "      <td>0</td>\n",
              "      <td>0</td>\n",
              "      <td>0</td>\n",
              "      <td>0</td>\n",
              "      <td>0</td>\n",
              "      <td>0</td>\n",
              "      <td>0</td>\n",
              "      <td>0</td>\n",
              "      <td>0</td>\n",
              "      <td>0</td>\n",
              "      <td>0</td>\n",
              "      <td>0</td>\n",
              "      <td>0</td>\n",
              "      <td>0</td>\n",
              "      <td>0</td>\n",
              "      <td>0</td>\n",
              "      <td>0</td>\n",
              "      <td>0</td>\n",
              "      <td>0</td>\n",
              "      <td>0</td>\n",
              "      <td>0</td>\n",
              "      <td>0</td>\n",
              "      <td>0</td>\n",
              "      <td>0</td>\n",
              "      <td>0</td>\n",
              "      <td>0</td>\n",
              "      <td>0</td>\n",
              "      <td>0</td>\n",
              "      <td>0</td>\n",
              "      <td>0</td>\n",
              "    </tr>\n",
              "    <tr>\n",
              "      <th>4</th>\n",
              "      <td>Rosedale</td>\n",
              "      <td>0</td>\n",
              "      <td>0</td>\n",
              "      <td>0</td>\n",
              "      <td>0</td>\n",
              "      <td>0</td>\n",
              "      <td>0</td>\n",
              "      <td>0</td>\n",
              "      <td>0</td>\n",
              "      <td>0</td>\n",
              "      <td>0</td>\n",
              "      <td>0</td>\n",
              "      <td>0</td>\n",
              "      <td>0</td>\n",
              "      <td>0</td>\n",
              "      <td>0</td>\n",
              "      <td>0</td>\n",
              "      <td>0</td>\n",
              "      <td>0</td>\n",
              "      <td>0</td>\n",
              "      <td>0</td>\n",
              "      <td>0</td>\n",
              "      <td>0</td>\n",
              "      <td>0</td>\n",
              "      <td>0</td>\n",
              "      <td>0</td>\n",
              "      <td>0</td>\n",
              "      <td>0</td>\n",
              "      <td>0</td>\n",
              "      <td>0</td>\n",
              "      <td>0</td>\n",
              "      <td>0</td>\n",
              "      <td>0</td>\n",
              "      <td>0</td>\n",
              "      <td>0</td>\n",
              "      <td>0</td>\n",
              "      <td>0</td>\n",
              "      <td>0</td>\n",
              "      <td>0</td>\n",
              "      <td>0</td>\n",
              "      <td>...</td>\n",
              "      <td>0</td>\n",
              "      <td>0</td>\n",
              "      <td>0</td>\n",
              "      <td>0</td>\n",
              "      <td>0</td>\n",
              "      <td>0</td>\n",
              "      <td>0</td>\n",
              "      <td>0</td>\n",
              "      <td>0</td>\n",
              "      <td>0</td>\n",
              "      <td>0</td>\n",
              "      <td>0</td>\n",
              "      <td>0</td>\n",
              "      <td>0</td>\n",
              "      <td>0</td>\n",
              "      <td>0</td>\n",
              "      <td>0</td>\n",
              "      <td>0</td>\n",
              "      <td>0</td>\n",
              "      <td>0</td>\n",
              "      <td>0</td>\n",
              "      <td>0</td>\n",
              "      <td>0</td>\n",
              "      <td>0</td>\n",
              "      <td>0</td>\n",
              "      <td>0</td>\n",
              "      <td>0</td>\n",
              "      <td>0</td>\n",
              "      <td>0</td>\n",
              "      <td>0</td>\n",
              "      <td>0</td>\n",
              "      <td>0</td>\n",
              "      <td>0</td>\n",
              "      <td>1</td>\n",
              "      <td>0</td>\n",
              "      <td>0</td>\n",
              "      <td>0</td>\n",
              "      <td>0</td>\n",
              "      <td>0</td>\n",
              "      <td>0</td>\n",
              "    </tr>\n",
              "  </tbody>\n",
              "</table>\n",
              "<p>5 rows × 147 columns</p>\n",
              "</div>"
            ],
            "text/plain": [
              "  Neighbourhood  Airport  ...  Wine Bar  Yoga Studio\n",
              "0      Rosedale        0  ...         0            0\n",
              "1      Rosedale        0  ...         0            0\n",
              "2      Rosedale        0  ...         0            0\n",
              "3      Rosedale        0  ...         0            0\n",
              "4      Rosedale        0  ...         0            0\n",
              "\n",
              "[5 rows x 147 columns]"
            ]
          },
          "metadata": {
            "tags": []
          },
          "execution_count": 19
        }
      ]
    },
    {
      "cell_type": "code",
      "metadata": {
        "id": "NJavdBcXPhlZ",
        "colab_type": "code",
        "colab": {}
      },
      "source": [
        "# let's group rows by neighbourhood and by taking the mean of the frequency of occurrence of each category\n",
        "DT_Toronto_grouped = DT_Toronto_onehot.groupby('Neighbourhood').mean().reset_index()\n"
      ],
      "execution_count": 0,
      "outputs": []
    },
    {
      "cell_type": "code",
      "metadata": {
        "id": "mi8AgX-dCyO3",
        "colab_type": "code",
        "outputId": "2fac4942-c09a-46ee-de74-d879590a6f11",
        "colab": {
          "base_uri": "https://localhost:8080/",
          "height": 1000
        }
      },
      "source": [
        "num_top_venues = 5\n",
        "\n",
        "for hood in DT_Toronto_grouped['Neighbourhood']:\n",
        "    print(\"***\"+hood+\"***\")\n",
        "    temp = DT_Toronto_grouped[DT_Toronto_grouped['Neighbourhood'] == hood].T.reset_index()\n",
        "    temp.columns = ['venue','frequency']\n",
        "    temp = temp.iloc[1:]\n",
        "    temp['frequency'] = temp['frequency'].astype(float)\n",
        "    temp = temp.round({'frequency': 2})\n",
        "    print(temp.sort_values('frequency', ascending=False).reset_index(drop=True).head(num_top_venues))\n",
        "    print('\\n')"
      ],
      "execution_count": 21,
      "outputs": [
        {
          "output_type": "stream",
          "text": [
            "***Adelaide, King, Richmond***\n",
            "              venue  frequency\n",
            "0        Steakhouse       0.10\n",
            "1              Café       0.10\n",
            "2  Asian Restaurant       0.07\n",
            "3             Hotel       0.07\n",
            "4         Gastropub       0.03\n",
            "\n",
            "\n",
            "***Berczy Park***\n",
            "                venue  frequency\n",
            "0                Café       0.07\n",
            "1  Seafood Restaurant       0.07\n",
            "2      Farmers Market       0.07\n",
            "3        Cocktail Bar       0.07\n",
            "4            Beer Bar       0.07\n",
            "\n",
            "\n",
            "***CN Tower, Bathurst Quay, Island airport, Harbourfront West, King and Spadina, Railway Lands, South Niagara***\n",
            "              venue  frequency\n",
            "0    Airport Lounge       0.14\n",
            "1  Airport Terminal       0.14\n",
            "2           Airport       0.07\n",
            "3          Boutique       0.07\n",
            "4               Bar       0.07\n",
            "\n",
            "\n",
            "***Cabbagetown, St. James Town***\n",
            "                venue  frequency\n",
            "0  Italian Restaurant       0.07\n",
            "1          Restaurant       0.07\n",
            "2              Bakery       0.07\n",
            "3                Café       0.07\n",
            "4         Coffee Shop       0.07\n",
            "\n",
            "\n",
            "***Central Bay Street***\n",
            "                venue  frequency\n",
            "0         Coffee Shop       0.20\n",
            "1                 Spa       0.07\n",
            "2  Italian Restaurant       0.07\n",
            "3     Bubble Tea Shop       0.07\n",
            "4                Café       0.07\n",
            "\n",
            "\n",
            "***Chinatown, Grange Park, Kensington Market***\n",
            "                     venue  frequency\n",
            "0                     Café       0.13\n",
            "1  Comfort Food Restaurant       0.07\n",
            "2       Mexican Restaurant       0.07\n",
            "3    Vietnamese Restaurant       0.07\n",
            "4     Caribbean Restaurant       0.07\n",
            "\n",
            "\n",
            "***Christie***\n",
            "                venue  frequency\n",
            "0                Café       0.20\n",
            "1       Grocery Store       0.20\n",
            "2                Park       0.13\n",
            "3         Coffee Shop       0.07\n",
            "4  Italian Restaurant       0.07\n",
            "\n",
            "\n",
            "***Church and Wellesley***\n",
            "                   venue  frequency\n",
            "0                Gay Bar       0.07\n",
            "1           Burger Joint       0.07\n",
            "2  General Entertainment       0.03\n",
            "3              Bookstore       0.03\n",
            "4              Gastropub       0.03\n",
            "\n",
            "\n",
            "***Commerce Court, Victoria Hotel***\n",
            "           venue  frequency\n",
            "0           Café       0.17\n",
            "1    Coffee Shop       0.13\n",
            "2     Restaurant       0.10\n",
            "3      Gastropub       0.07\n",
            "4  Deli / Bodega       0.07\n",
            "\n",
            "\n",
            "***Design Exchange, Toronto Dominion Centre***\n",
            "           venue  frequency\n",
            "0    Coffee Shop       0.17\n",
            "1           Café       0.10\n",
            "2     Restaurant       0.10\n",
            "3  Deli / Bodega       0.07\n",
            "4            Gym       0.03\n",
            "\n",
            "\n",
            "***First Canadian Place, Underground city***\n",
            "           venue  frequency\n",
            "0           Café       0.13\n",
            "1    Coffee Shop       0.10\n",
            "2     Steakhouse       0.07\n",
            "3  Deli / Bodega       0.07\n",
            "4     Restaurant       0.07\n",
            "\n",
            "\n",
            "***Harbord, University of Toronto***\n",
            "                 venue  frequency\n",
            "0                 Café       0.13\n",
            "1  Japanese Restaurant       0.07\n",
            "2           Restaurant       0.07\n",
            "3                  Bar       0.07\n",
            "4               Bakery       0.07\n",
            "\n",
            "\n",
            "***Harbourfront East, Toronto Islands, Union Station***\n",
            "                 venue  frequency\n",
            "0                Hotel       0.07\n",
            "1                Plaza       0.07\n",
            "2                 Park       0.07\n",
            "3                 Café       0.07\n",
            "4  Sporting Goods Shop       0.03\n",
            "\n",
            "\n",
            "***Harbourfront, Regent Park***\n",
            "                venue  frequency\n",
            "0         Coffee Shop       0.20\n",
            "1                Park       0.10\n",
            "2              Bakery       0.10\n",
            "3  Mexican Restaurant       0.07\n",
            "4      Breakfast Spot       0.07\n",
            "\n",
            "\n",
            "***Rosedale***\n",
            "                     venue  frequency\n",
            "0                     Park        0.4\n",
            "1               Playground        0.2\n",
            "2                    Trail        0.2\n",
            "3                 Building        0.2\n",
            "4  New American Restaurant        0.0\n",
            "\n",
            "\n",
            "***Ryerson, Garden District***\n",
            "                  venue  frequency\n",
            "0                  Café       0.10\n",
            "1        Clothing Store       0.07\n",
            "2      Ramen Restaurant       0.03\n",
            "3  Fast Food Restaurant       0.03\n",
            "4        Sandwich Place       0.03\n",
            "\n",
            "\n",
            "***St. James Town***\n",
            "                venue  frequency\n",
            "0         Coffee Shop       0.13\n",
            "1           Gastropub       0.10\n",
            "2  Italian Restaurant       0.10\n",
            "3               Hotel       0.07\n",
            "4          Restaurant       0.07\n",
            "\n",
            "\n",
            "***Stn A PO Boxes 25 The Esplanade***\n",
            "                venue  frequency\n",
            "0                Café       0.10\n",
            "1      Farmers Market       0.07\n",
            "2  Seafood Restaurant       0.07\n",
            "3        Cocktail Bar       0.07\n",
            "4            Beer Bar       0.07\n",
            "\n",
            "\n"
          ],
          "name": "stdout"
        }
      ]
    },
    {
      "cell_type": "markdown",
      "metadata": {
        "id": "cuWK6riGDy0y",
        "colab_type": "text"
      },
      "source": [
        "Lets generate the Top venues in downtown Toronto"
      ]
    },
    {
      "cell_type": "code",
      "metadata": {
        "id": "29FwGcDLQQcs",
        "colab_type": "code",
        "colab": {}
      },
      "source": [
        "def return_most_common_venues(row, num_top_venues):\n",
        "    row_categories = row.iloc[1:]\n",
        "    row_categories_sorted = row_categories.sort_values(ascending=False)\n",
        "    \n",
        "    return row_categories_sorted.index.values[0:num_top_venues]"
      ],
      "execution_count": 0,
      "outputs": []
    },
    {
      "cell_type": "code",
      "metadata": {
        "id": "n7gbuADlQlT2",
        "colab_type": "code",
        "outputId": "3db23b39-489b-4e6a-e13c-d1388cde7a26",
        "colab": {
          "base_uri": "https://localhost:8080/",
          "height": 340
        }
      },
      "source": [
        "num_top_venues = 5\n",
        "\n",
        "indicators = ['st', 'nd', 'rd']\n",
        "\n",
        "# create columns according to number of top venues\n",
        "columns = ['Neighbourhood']\n",
        "for ind in np.arange(num_top_venues):\n",
        "    try:\n",
        "        columns.append('{}{} Most Common Venue'.format(ind+1, indicators[ind]))\n",
        "    except:\n",
        "        columns.append('{}th Most Common Venue'.format(ind+1))\n",
        "\n",
        "# create a new dataframe\n",
        "neighbourhoods_venues_sorted = pd.DataFrame(columns=columns)\n",
        "neighbourhoods_venues_sorted['Neighbourhood'] = DT_Toronto_grouped['Neighbourhood']\n",
        "\n",
        "for ind in np.arange(DT_Toronto_grouped.shape[0]):\n",
        "    neighbourhoods_venues_sorted.iloc[ind, 1:] = return_most_common_venues(DT_Toronto_grouped.iloc[ind, :], num_top_venues)\n",
        "\n",
        "neighbourhoods_venues_sorted.head()"
      ],
      "execution_count": 23,
      "outputs": [
        {
          "output_type": "execute_result",
          "data": {
            "text/html": [
              "<div>\n",
              "<style scoped>\n",
              "    .dataframe tbody tr th:only-of-type {\n",
              "        vertical-align: middle;\n",
              "    }\n",
              "\n",
              "    .dataframe tbody tr th {\n",
              "        vertical-align: top;\n",
              "    }\n",
              "\n",
              "    .dataframe thead th {\n",
              "        text-align: right;\n",
              "    }\n",
              "</style>\n",
              "<table border=\"1\" class=\"dataframe\">\n",
              "  <thead>\n",
              "    <tr style=\"text-align: right;\">\n",
              "      <th></th>\n",
              "      <th>Neighbourhood</th>\n",
              "      <th>1st Most Common Venue</th>\n",
              "      <th>2nd Most Common Venue</th>\n",
              "      <th>3rd Most Common Venue</th>\n",
              "      <th>4th Most Common Venue</th>\n",
              "      <th>5th Most Common Venue</th>\n",
              "    </tr>\n",
              "  </thead>\n",
              "  <tbody>\n",
              "    <tr>\n",
              "      <th>0</th>\n",
              "      <td>Adelaide, King, Richmond</td>\n",
              "      <td>Steakhouse</td>\n",
              "      <td>Café</td>\n",
              "      <td>Asian Restaurant</td>\n",
              "      <td>Hotel</td>\n",
              "      <td>Seafood Restaurant</td>\n",
              "    </tr>\n",
              "    <tr>\n",
              "      <th>1</th>\n",
              "      <td>Berczy Park</td>\n",
              "      <td>Farmers Market</td>\n",
              "      <td>Café</td>\n",
              "      <td>Seafood Restaurant</td>\n",
              "      <td>Beer Bar</td>\n",
              "      <td>Cocktail Bar</td>\n",
              "    </tr>\n",
              "    <tr>\n",
              "      <th>2</th>\n",
              "      <td>CN Tower, Bathurst Quay, Island airport, Harbo...</td>\n",
              "      <td>Airport Lounge</td>\n",
              "      <td>Airport Terminal</td>\n",
              "      <td>Harbor / Marina</td>\n",
              "      <td>Sculpture Garden</td>\n",
              "      <td>Airport Food Court</td>\n",
              "    </tr>\n",
              "    <tr>\n",
              "      <th>3</th>\n",
              "      <td>Cabbagetown, St. James Town</td>\n",
              "      <td>Coffee Shop</td>\n",
              "      <td>Café</td>\n",
              "      <td>Italian Restaurant</td>\n",
              "      <td>Bakery</td>\n",
              "      <td>Restaurant</td>\n",
              "    </tr>\n",
              "    <tr>\n",
              "      <th>4</th>\n",
              "      <td>Central Bay Street</td>\n",
              "      <td>Coffee Shop</td>\n",
              "      <td>Bubble Tea Shop</td>\n",
              "      <td>Spa</td>\n",
              "      <td>Italian Restaurant</td>\n",
              "      <td>Café</td>\n",
              "    </tr>\n",
              "  </tbody>\n",
              "</table>\n",
              "</div>"
            ],
            "text/plain": [
              "                                       Neighbourhood  ... 5th Most Common Venue\n",
              "0                           Adelaide, King, Richmond  ...    Seafood Restaurant\n",
              "1                                        Berczy Park  ...          Cocktail Bar\n",
              "2  CN Tower, Bathurst Quay, Island airport, Harbo...  ...    Airport Food Court\n",
              "3                        Cabbagetown, St. James Town  ...            Restaurant\n",
              "4                                 Central Bay Street  ...                  Café\n",
              "\n",
              "[5 rows x 6 columns]"
            ]
          },
          "metadata": {
            "tags": []
          },
          "execution_count": 23
        }
      ]
    },
    {
      "cell_type": "markdown",
      "metadata": {
        "id": "iD5jnEVxQ7iX",
        "colab_type": "text"
      },
      "source": [
        "# **Clustering neighbourhoods in Toronto**\n",
        "\n",
        "We will utilze K-Means to cluster the neighbourhoods into 5 clusters.\n",
        "\n",
        "k-means is vastly used for clustering in many data science applications, especially useful if you need to quickly discover insights from unlabeled data."
      ]
    },
    {
      "cell_type": "code",
      "metadata": {
        "id": "sbWHknSTQzYE",
        "colab_type": "code",
        "outputId": "881a97b8-ab55-49de-c4ab-ce2247baccdf",
        "colab": {
          "base_uri": "https://localhost:8080/",
          "height": 34
        }
      },
      "source": [
        "# set number of clusters\n",
        "kclusters = 5\n",
        "\n",
        "DT_Toronto_grouped_clustering = DT_Toronto_grouped.drop('Neighbourhood', 1)\n",
        "\n",
        "# run k-means clustering\n",
        "kmeans = KMeans(n_clusters=kclusters, random_state=0).fit(DT_Toronto_grouped_clustering)\n",
        "\n",
        "# check cluster labels generated for each row in the dataframe\n",
        "kmeans.labels_[0:10] "
      ],
      "execution_count": 24,
      "outputs": [
        {
          "output_type": "execute_result",
          "data": {
            "text/plain": [
              "array([0, 0, 4, 3, 3, 0, 1, 0, 3, 3], dtype=int32)"
            ]
          },
          "metadata": {
            "tags": []
          },
          "execution_count": 24
        }
      ]
    },
    {
      "cell_type": "code",
      "metadata": {
        "id": "drN1aMkCQ6uM",
        "colab_type": "code",
        "colab": {}
      },
      "source": [
        "# add clustering labels\n",
        "neighbourhoods_venues_sorted.insert(0, 'Cluster Labels', kmeans.labels_)\n",
        "\n",
        "DT_Toronto_merged = DT_Toronto_data\n",
        "\n",
        "# merge toronto_grouped with toronto_data to add latitude/longitude for each neighbourhood\n",
        "DT_Toronto_merged = DT_Toronto_merged.join(neighbourhoods_venues_sorted.set_index('Neighbourhood'), on='Neighbourhood')\n",
        "\n"
      ],
      "execution_count": 0,
      "outputs": []
    },
    {
      "cell_type": "code",
      "metadata": {
        "id": "_WvYAMYHZSl3",
        "colab_type": "code",
        "outputId": "05ca1ab6-26b5-4e94-82db-646cb75a237d",
        "colab": {
          "base_uri": "https://localhost:8080/",
          "height": 360
        }
      },
      "source": [
        "DT_Toronto_merged.head() # check the last columns!"
      ],
      "execution_count": 26,
      "outputs": [
        {
          "output_type": "execute_result",
          "data": {
            "text/html": [
              "<div>\n",
              "<style scoped>\n",
              "    .dataframe tbody tr th:only-of-type {\n",
              "        vertical-align: middle;\n",
              "    }\n",
              "\n",
              "    .dataframe tbody tr th {\n",
              "        vertical-align: top;\n",
              "    }\n",
              "\n",
              "    .dataframe thead th {\n",
              "        text-align: right;\n",
              "    }\n",
              "</style>\n",
              "<table border=\"1\" class=\"dataframe\">\n",
              "  <thead>\n",
              "    <tr style=\"text-align: right;\">\n",
              "      <th></th>\n",
              "      <th>Unnamed: 0</th>\n",
              "      <th>Postcode</th>\n",
              "      <th>Borough</th>\n",
              "      <th>Neighbourhood</th>\n",
              "      <th>Latitude</th>\n",
              "      <th>Longitude</th>\n",
              "      <th>Cluster Labels</th>\n",
              "      <th>1st Most Common Venue</th>\n",
              "      <th>2nd Most Common Venue</th>\n",
              "      <th>3rd Most Common Venue</th>\n",
              "      <th>4th Most Common Venue</th>\n",
              "      <th>5th Most Common Venue</th>\n",
              "    </tr>\n",
              "  </thead>\n",
              "  <tbody>\n",
              "    <tr>\n",
              "      <th>0</th>\n",
              "      <td>50</td>\n",
              "      <td>M4W</td>\n",
              "      <td>Downtown Toronto</td>\n",
              "      <td>Rosedale</td>\n",
              "      <td>43.679563</td>\n",
              "      <td>-79.377529</td>\n",
              "      <td>2</td>\n",
              "      <td>Park</td>\n",
              "      <td>Playground</td>\n",
              "      <td>Trail</td>\n",
              "      <td>Building</td>\n",
              "      <td>Yoga Studio</td>\n",
              "    </tr>\n",
              "    <tr>\n",
              "      <th>1</th>\n",
              "      <td>51</td>\n",
              "      <td>M4X</td>\n",
              "      <td>Downtown Toronto</td>\n",
              "      <td>Cabbagetown, St. James Town</td>\n",
              "      <td>43.667967</td>\n",
              "      <td>-79.367675</td>\n",
              "      <td>3</td>\n",
              "      <td>Coffee Shop</td>\n",
              "      <td>Café</td>\n",
              "      <td>Italian Restaurant</td>\n",
              "      <td>Bakery</td>\n",
              "      <td>Restaurant</td>\n",
              "    </tr>\n",
              "    <tr>\n",
              "      <th>2</th>\n",
              "      <td>52</td>\n",
              "      <td>M4Y</td>\n",
              "      <td>Downtown Toronto</td>\n",
              "      <td>Church and Wellesley</td>\n",
              "      <td>43.665860</td>\n",
              "      <td>-79.383160</td>\n",
              "      <td>0</td>\n",
              "      <td>Gay Bar</td>\n",
              "      <td>Burger Joint</td>\n",
              "      <td>Ramen Restaurant</td>\n",
              "      <td>Diner</td>\n",
              "      <td>Bookstore</td>\n",
              "    </tr>\n",
              "    <tr>\n",
              "      <th>3</th>\n",
              "      <td>53</td>\n",
              "      <td>M5A</td>\n",
              "      <td>Downtown Toronto</td>\n",
              "      <td>Harbourfront, Regent Park</td>\n",
              "      <td>43.654260</td>\n",
              "      <td>-79.360636</td>\n",
              "      <td>3</td>\n",
              "      <td>Coffee Shop</td>\n",
              "      <td>Park</td>\n",
              "      <td>Bakery</td>\n",
              "      <td>Breakfast Spot</td>\n",
              "      <td>Mexican Restaurant</td>\n",
              "    </tr>\n",
              "    <tr>\n",
              "      <th>4</th>\n",
              "      <td>54</td>\n",
              "      <td>M5B</td>\n",
              "      <td>Downtown Toronto</td>\n",
              "      <td>Ryerson, Garden District</td>\n",
              "      <td>43.657162</td>\n",
              "      <td>-79.378937</td>\n",
              "      <td>0</td>\n",
              "      <td>Café</td>\n",
              "      <td>Clothing Store</td>\n",
              "      <td>Burger Joint</td>\n",
              "      <td>Restaurant</td>\n",
              "      <td>Hotel</td>\n",
              "    </tr>\n",
              "  </tbody>\n",
              "</table>\n",
              "</div>"
            ],
            "text/plain": [
              "   Unnamed: 0 Postcode  ... 4th Most Common Venue 5th Most Common Venue\n",
              "0          50      M4W  ...              Building           Yoga Studio\n",
              "1          51      M4X  ...                Bakery            Restaurant\n",
              "2          52      M4Y  ...                 Diner             Bookstore\n",
              "3          53      M5A  ...        Breakfast Spot    Mexican Restaurant\n",
              "4          54      M5B  ...            Restaurant                 Hotel\n",
              "\n",
              "[5 rows x 12 columns]"
            ]
          },
          "metadata": {
            "tags": []
          },
          "execution_count": 26
        }
      ]
    },
    {
      "cell_type": "code",
      "metadata": {
        "id": "Ynm9ULpGY2VF",
        "colab_type": "code",
        "outputId": "96bbc645-4862-450f-e929-e58e0805fffd",
        "colab": {
          "base_uri": "https://localhost:8080/",
          "height": 402
        }
      },
      "source": [
        "# create map\n",
        "map_clusters = folium.Map(location=[latitude, longitude], zoom_start=11)\n",
        "\n",
        "# set color scheme for the clusters\n",
        "x = np.arange(kclusters)\n",
        "ys = [i + x + (i*x)**2 for i in range(kclusters)]\n",
        "colors_array = cm.rainbow(np.linspace(0, 1, len(ys)))\n",
        "rainbow = [colors.rgb2hex(i) for i in colors_array]\n",
        "\n",
        "# add markers to the map\n",
        "markers_colors = []\n",
        "for lat, lon, poi, cluster in zip(DT_Toronto_merged['Latitude'], DT_Toronto_merged['Longitude'], DT_Toronto_merged['Neighbourhood'], DT_Toronto_merged['Cluster Labels']):\n",
        "    label = folium.Popup(str(poi) + ' Cluster ' + str(cluster), parse_html=True)\n",
        "    folium.CircleMarker(\n",
        "        [lat, lon],\n",
        "        radius=5,\n",
        "        popup=label,\n",
        "        color=rainbow[cluster-1],\n",
        "        fill=True,\n",
        "        fill_color=rainbow[cluster-1],\n",
        "        fill_opacity=0.7).add_to(map_clusters)\n",
        "       \n",
        "map_clusters"
      ],
      "execution_count": 27,
      "outputs": [
        {
          "output_type": "execute_result",
          "data": {
            "text/html": [
              "<div style=\"width:100%;\"><div style=\"position:relative;width:100%;height:0;padding-bottom:60%;\"><iframe src=\"data:text/html;charset=utf-8;base64,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\" style=\"position:absolute;width:100%;height:100%;left:0;top:0;border:none !important;\" allowfullscreen webkitallowfullscreen mozallowfullscreen></iframe></div></div>"
            ],
            "text/plain": [
              "<folium.folium.Map at 0x7f389f2573c8>"
            ]
          },
          "metadata": {
            "tags": []
          },
          "execution_count": 27
        }
      ]
    },
    {
      "cell_type": "code",
      "metadata": {
        "id": "CP2zLDgZahBB",
        "colab_type": "code",
        "outputId": "2805323d-98bd-4d44-927f-8f2893cecbf0",
        "colab": {
          "base_uri": "https://localhost:8080/",
          "height": 456
        }
      },
      "source": [
        "DT_Toronto_merged.loc[DT_Toronto_merged['Cluster Labels'] == 0, DT_Toronto_merged.columns[[1] + list(range(5, DT_Toronto_merged.shape[1]))]]"
      ],
      "execution_count": 28,
      "outputs": [
        {
          "output_type": "execute_result",
          "data": {
            "text/html": [
              "<div>\n",
              "<style scoped>\n",
              "    .dataframe tbody tr th:only-of-type {\n",
              "        vertical-align: middle;\n",
              "    }\n",
              "\n",
              "    .dataframe tbody tr th {\n",
              "        vertical-align: top;\n",
              "    }\n",
              "\n",
              "    .dataframe thead th {\n",
              "        text-align: right;\n",
              "    }\n",
              "</style>\n",
              "<table border=\"1\" class=\"dataframe\">\n",
              "  <thead>\n",
              "    <tr style=\"text-align: right;\">\n",
              "      <th></th>\n",
              "      <th>Postcode</th>\n",
              "      <th>Longitude</th>\n",
              "      <th>Cluster Labels</th>\n",
              "      <th>1st Most Common Venue</th>\n",
              "      <th>2nd Most Common Venue</th>\n",
              "      <th>3rd Most Common Venue</th>\n",
              "      <th>4th Most Common Venue</th>\n",
              "      <th>5th Most Common Venue</th>\n",
              "    </tr>\n",
              "  </thead>\n",
              "  <tbody>\n",
              "    <tr>\n",
              "      <th>2</th>\n",
              "      <td>M4Y</td>\n",
              "      <td>-79.383160</td>\n",
              "      <td>0</td>\n",
              "      <td>Gay Bar</td>\n",
              "      <td>Burger Joint</td>\n",
              "      <td>Ramen Restaurant</td>\n",
              "      <td>Diner</td>\n",
              "      <td>Bookstore</td>\n",
              "    </tr>\n",
              "    <tr>\n",
              "      <th>4</th>\n",
              "      <td>M5B</td>\n",
              "      <td>-79.378937</td>\n",
              "      <td>0</td>\n",
              "      <td>Café</td>\n",
              "      <td>Clothing Store</td>\n",
              "      <td>Burger Joint</td>\n",
              "      <td>Restaurant</td>\n",
              "      <td>Hotel</td>\n",
              "    </tr>\n",
              "    <tr>\n",
              "      <th>6</th>\n",
              "      <td>M5E</td>\n",
              "      <td>-79.373306</td>\n",
              "      <td>0</td>\n",
              "      <td>Farmers Market</td>\n",
              "      <td>Café</td>\n",
              "      <td>Seafood Restaurant</td>\n",
              "      <td>Beer Bar</td>\n",
              "      <td>Cocktail Bar</td>\n",
              "    </tr>\n",
              "    <tr>\n",
              "      <th>8</th>\n",
              "      <td>M5H</td>\n",
              "      <td>-79.384568</td>\n",
              "      <td>0</td>\n",
              "      <td>Steakhouse</td>\n",
              "      <td>Café</td>\n",
              "      <td>Asian Restaurant</td>\n",
              "      <td>Hotel</td>\n",
              "      <td>Seafood Restaurant</td>\n",
              "    </tr>\n",
              "    <tr>\n",
              "      <th>9</th>\n",
              "      <td>M5J</td>\n",
              "      <td>-79.381752</td>\n",
              "      <td>0</td>\n",
              "      <td>Park</td>\n",
              "      <td>Café</td>\n",
              "      <td>Plaza</td>\n",
              "      <td>Hotel</td>\n",
              "      <td>Performing Arts Venue</td>\n",
              "    </tr>\n",
              "    <tr>\n",
              "      <th>13</th>\n",
              "      <td>M5T</td>\n",
              "      <td>-79.400049</td>\n",
              "      <td>0</td>\n",
              "      <td>Café</td>\n",
              "      <td>Vietnamese Restaurant</td>\n",
              "      <td>Caribbean Restaurant</td>\n",
              "      <td>Mexican Restaurant</td>\n",
              "      <td>Comfort Food Restaurant</td>\n",
              "    </tr>\n",
              "    <tr>\n",
              "      <th>15</th>\n",
              "      <td>M5W</td>\n",
              "      <td>-79.374846</td>\n",
              "      <td>0</td>\n",
              "      <td>Café</td>\n",
              "      <td>Cocktail Bar</td>\n",
              "      <td>Seafood Restaurant</td>\n",
              "      <td>Beer Bar</td>\n",
              "      <td>Farmers Market</td>\n",
              "    </tr>\n",
              "  </tbody>\n",
              "</table>\n",
              "</div>"
            ],
            "text/plain": [
              "   Postcode  Longitude  ...  4th Most Common Venue    5th Most Common Venue\n",
              "2       M4Y -79.383160  ...                  Diner                Bookstore\n",
              "4       M5B -79.378937  ...             Restaurant                    Hotel\n",
              "6       M5E -79.373306  ...               Beer Bar             Cocktail Bar\n",
              "8       M5H -79.384568  ...                  Hotel       Seafood Restaurant\n",
              "9       M5J -79.381752  ...                  Hotel    Performing Arts Venue\n",
              "13      M5T -79.400049  ...     Mexican Restaurant  Comfort Food Restaurant\n",
              "15      M5W -79.374846  ...               Beer Bar           Farmers Market\n",
              "\n",
              "[7 rows x 8 columns]"
            ]
          },
          "metadata": {
            "tags": []
          },
          "execution_count": 28
        }
      ]
    },
    {
      "cell_type": "code",
      "metadata": {
        "id": "nUbt2KQDEl5q",
        "colab_type": "code",
        "outputId": "47391ce2-4a81-4c80-dc4c-93fb5e2076ad",
        "colab": {
          "base_uri": "https://localhost:8080/",
          "height": 148
        }
      },
      "source": [
        "DT_Toronto_merged.loc[DT_Toronto_merged['Cluster Labels'] == 1, DT_Toronto_merged.columns[[1] + list(range(5, DT_Toronto_merged.shape[1]))]]"
      ],
      "execution_count": 29,
      "outputs": [
        {
          "output_type": "execute_result",
          "data": {
            "text/html": [
              "<div>\n",
              "<style scoped>\n",
              "    .dataframe tbody tr th:only-of-type {\n",
              "        vertical-align: middle;\n",
              "    }\n",
              "\n",
              "    .dataframe tbody tr th {\n",
              "        vertical-align: top;\n",
              "    }\n",
              "\n",
              "    .dataframe thead th {\n",
              "        text-align: right;\n",
              "    }\n",
              "</style>\n",
              "<table border=\"1\" class=\"dataframe\">\n",
              "  <thead>\n",
              "    <tr style=\"text-align: right;\">\n",
              "      <th></th>\n",
              "      <th>Postcode</th>\n",
              "      <th>Longitude</th>\n",
              "      <th>Cluster Labels</th>\n",
              "      <th>1st Most Common Venue</th>\n",
              "      <th>2nd Most Common Venue</th>\n",
              "      <th>3rd Most Common Venue</th>\n",
              "      <th>4th Most Common Venue</th>\n",
              "      <th>5th Most Common Venue</th>\n",
              "    </tr>\n",
              "  </thead>\n",
              "  <tbody>\n",
              "    <tr>\n",
              "      <th>17</th>\n",
              "      <td>M6G</td>\n",
              "      <td>-79.422564</td>\n",
              "      <td>1</td>\n",
              "      <td>Grocery Store</td>\n",
              "      <td>Café</td>\n",
              "      <td>Park</td>\n",
              "      <td>Coffee Shop</td>\n",
              "      <td>Diner</td>\n",
              "    </tr>\n",
              "  </tbody>\n",
              "</table>\n",
              "</div>"
            ],
            "text/plain": [
              "   Postcode  Longitude  ...  4th Most Common Venue 5th Most Common Venue\n",
              "17      M6G -79.422564  ...            Coffee Shop                 Diner\n",
              "\n",
              "[1 rows x 8 columns]"
            ]
          },
          "metadata": {
            "tags": []
          },
          "execution_count": 29
        }
      ]
    },
    {
      "cell_type": "code",
      "metadata": {
        "id": "YiTlJF9tE5I3",
        "colab_type": "code",
        "outputId": "f3372b7b-534c-4087-b9a1-53dc89ad53da",
        "colab": {
          "base_uri": "https://localhost:8080/",
          "height": 148
        }
      },
      "source": [
        "DT_Toronto_merged.loc[DT_Toronto_merged['Cluster Labels'] == 2, DT_Toronto_merged.columns[[1] + list(range(5, DT_Toronto_merged.shape[1]))]]"
      ],
      "execution_count": 30,
      "outputs": [
        {
          "output_type": "execute_result",
          "data": {
            "text/html": [
              "<div>\n",
              "<style scoped>\n",
              "    .dataframe tbody tr th:only-of-type {\n",
              "        vertical-align: middle;\n",
              "    }\n",
              "\n",
              "    .dataframe tbody tr th {\n",
              "        vertical-align: top;\n",
              "    }\n",
              "\n",
              "    .dataframe thead th {\n",
              "        text-align: right;\n",
              "    }\n",
              "</style>\n",
              "<table border=\"1\" class=\"dataframe\">\n",
              "  <thead>\n",
              "    <tr style=\"text-align: right;\">\n",
              "      <th></th>\n",
              "      <th>Postcode</th>\n",
              "      <th>Longitude</th>\n",
              "      <th>Cluster Labels</th>\n",
              "      <th>1st Most Common Venue</th>\n",
              "      <th>2nd Most Common Venue</th>\n",
              "      <th>3rd Most Common Venue</th>\n",
              "      <th>4th Most Common Venue</th>\n",
              "      <th>5th Most Common Venue</th>\n",
              "    </tr>\n",
              "  </thead>\n",
              "  <tbody>\n",
              "    <tr>\n",
              "      <th>0</th>\n",
              "      <td>M4W</td>\n",
              "      <td>-79.377529</td>\n",
              "      <td>2</td>\n",
              "      <td>Park</td>\n",
              "      <td>Playground</td>\n",
              "      <td>Trail</td>\n",
              "      <td>Building</td>\n",
              "      <td>Yoga Studio</td>\n",
              "    </tr>\n",
              "  </tbody>\n",
              "</table>\n",
              "</div>"
            ],
            "text/plain": [
              "  Postcode  Longitude  ...  4th Most Common Venue 5th Most Common Venue\n",
              "0      M4W -79.377529  ...               Building           Yoga Studio\n",
              "\n",
              "[1 rows x 8 columns]"
            ]
          },
          "metadata": {
            "tags": []
          },
          "execution_count": 30
        }
      ]
    },
    {
      "cell_type": "code",
      "metadata": {
        "id": "i2M-L63ME_g3",
        "colab_type": "code",
        "outputId": "5ebeeba9-c32b-47c0-beb2-2326c9cc1d09",
        "colab": {
          "base_uri": "https://localhost:8080/",
          "height": 504
        }
      },
      "source": [
        "DT_Toronto_merged.loc[DT_Toronto_merged['Cluster Labels'] == 3, DT_Toronto_merged.columns[[1] + list(range(5, DT_Toronto_merged.shape[1]))]]"
      ],
      "execution_count": 31,
      "outputs": [
        {
          "output_type": "execute_result",
          "data": {
            "text/html": [
              "<div>\n",
              "<style scoped>\n",
              "    .dataframe tbody tr th:only-of-type {\n",
              "        vertical-align: middle;\n",
              "    }\n",
              "\n",
              "    .dataframe tbody tr th {\n",
              "        vertical-align: top;\n",
              "    }\n",
              "\n",
              "    .dataframe thead th {\n",
              "        text-align: right;\n",
              "    }\n",
              "</style>\n",
              "<table border=\"1\" class=\"dataframe\">\n",
              "  <thead>\n",
              "    <tr style=\"text-align: right;\">\n",
              "      <th></th>\n",
              "      <th>Postcode</th>\n",
              "      <th>Longitude</th>\n",
              "      <th>Cluster Labels</th>\n",
              "      <th>1st Most Common Venue</th>\n",
              "      <th>2nd Most Common Venue</th>\n",
              "      <th>3rd Most Common Venue</th>\n",
              "      <th>4th Most Common Venue</th>\n",
              "      <th>5th Most Common Venue</th>\n",
              "    </tr>\n",
              "  </thead>\n",
              "  <tbody>\n",
              "    <tr>\n",
              "      <th>1</th>\n",
              "      <td>M4X</td>\n",
              "      <td>-79.367675</td>\n",
              "      <td>3</td>\n",
              "      <td>Coffee Shop</td>\n",
              "      <td>Café</td>\n",
              "      <td>Italian Restaurant</td>\n",
              "      <td>Bakery</td>\n",
              "      <td>Restaurant</td>\n",
              "    </tr>\n",
              "    <tr>\n",
              "      <th>3</th>\n",
              "      <td>M5A</td>\n",
              "      <td>-79.360636</td>\n",
              "      <td>3</td>\n",
              "      <td>Coffee Shop</td>\n",
              "      <td>Park</td>\n",
              "      <td>Bakery</td>\n",
              "      <td>Breakfast Spot</td>\n",
              "      <td>Mexican Restaurant</td>\n",
              "    </tr>\n",
              "    <tr>\n",
              "      <th>5</th>\n",
              "      <td>M5C</td>\n",
              "      <td>-79.375418</td>\n",
              "      <td>3</td>\n",
              "      <td>Coffee Shop</td>\n",
              "      <td>Italian Restaurant</td>\n",
              "      <td>Gastropub</td>\n",
              "      <td>Restaurant</td>\n",
              "      <td>Hotel</td>\n",
              "    </tr>\n",
              "    <tr>\n",
              "      <th>7</th>\n",
              "      <td>M5G</td>\n",
              "      <td>-79.387383</td>\n",
              "      <td>3</td>\n",
              "      <td>Coffee Shop</td>\n",
              "      <td>Bubble Tea Shop</td>\n",
              "      <td>Spa</td>\n",
              "      <td>Italian Restaurant</td>\n",
              "      <td>Café</td>\n",
              "    </tr>\n",
              "    <tr>\n",
              "      <th>10</th>\n",
              "      <td>M5K</td>\n",
              "      <td>-79.381576</td>\n",
              "      <td>3</td>\n",
              "      <td>Coffee Shop</td>\n",
              "      <td>Restaurant</td>\n",
              "      <td>Café</td>\n",
              "      <td>Deli / Bodega</td>\n",
              "      <td>Hotel Bar</td>\n",
              "    </tr>\n",
              "    <tr>\n",
              "      <th>11</th>\n",
              "      <td>M5L</td>\n",
              "      <td>-79.379817</td>\n",
              "      <td>3</td>\n",
              "      <td>Café</td>\n",
              "      <td>Coffee Shop</td>\n",
              "      <td>Restaurant</td>\n",
              "      <td>Deli / Bodega</td>\n",
              "      <td>Gastropub</td>\n",
              "    </tr>\n",
              "    <tr>\n",
              "      <th>12</th>\n",
              "      <td>M5S</td>\n",
              "      <td>-79.400049</td>\n",
              "      <td>3</td>\n",
              "      <td>Café</td>\n",
              "      <td>Italian Restaurant</td>\n",
              "      <td>Restaurant</td>\n",
              "      <td>Bookstore</td>\n",
              "      <td>Bar</td>\n",
              "    </tr>\n",
              "    <tr>\n",
              "      <th>16</th>\n",
              "      <td>M5X</td>\n",
              "      <td>-79.382280</td>\n",
              "      <td>3</td>\n",
              "      <td>Café</td>\n",
              "      <td>Coffee Shop</td>\n",
              "      <td>Deli / Bodega</td>\n",
              "      <td>Restaurant</td>\n",
              "      <td>Steakhouse</td>\n",
              "    </tr>\n",
              "  </tbody>\n",
              "</table>\n",
              "</div>"
            ],
            "text/plain": [
              "   Postcode  Longitude  ...  4th Most Common Venue 5th Most Common Venue\n",
              "1       M4X -79.367675  ...                 Bakery            Restaurant\n",
              "3       M5A -79.360636  ...         Breakfast Spot    Mexican Restaurant\n",
              "5       M5C -79.375418  ...             Restaurant                 Hotel\n",
              "7       M5G -79.387383  ...     Italian Restaurant                  Café\n",
              "10      M5K -79.381576  ...          Deli / Bodega             Hotel Bar\n",
              "11      M5L -79.379817  ...          Deli / Bodega             Gastropub\n",
              "12      M5S -79.400049  ...              Bookstore                   Bar\n",
              "16      M5X -79.382280  ...             Restaurant            Steakhouse\n",
              "\n",
              "[8 rows x 8 columns]"
            ]
          },
          "metadata": {
            "tags": []
          },
          "execution_count": 31
        }
      ]
    },
    {
      "cell_type": "code",
      "metadata": {
        "id": "OUDmjm7lFBSq",
        "colab_type": "code",
        "outputId": "8130eaa2-ea57-4d2b-cfd3-4a91515c558d",
        "colab": {
          "base_uri": "https://localhost:8080/",
          "height": 165
        }
      },
      "source": [
        "DT_Toronto_merged.loc[DT_Toronto_merged['Cluster Labels'] == 4, DT_Toronto_merged.columns[[1] + list(range(5, DT_Toronto_merged.shape[1]))]]"
      ],
      "execution_count": 32,
      "outputs": [
        {
          "output_type": "execute_result",
          "data": {
            "text/html": [
              "<div>\n",
              "<style scoped>\n",
              "    .dataframe tbody tr th:only-of-type {\n",
              "        vertical-align: middle;\n",
              "    }\n",
              "\n",
              "    .dataframe tbody tr th {\n",
              "        vertical-align: top;\n",
              "    }\n",
              "\n",
              "    .dataframe thead th {\n",
              "        text-align: right;\n",
              "    }\n",
              "</style>\n",
              "<table border=\"1\" class=\"dataframe\">\n",
              "  <thead>\n",
              "    <tr style=\"text-align: right;\">\n",
              "      <th></th>\n",
              "      <th>Postcode</th>\n",
              "      <th>Longitude</th>\n",
              "      <th>Cluster Labels</th>\n",
              "      <th>1st Most Common Venue</th>\n",
              "      <th>2nd Most Common Venue</th>\n",
              "      <th>3rd Most Common Venue</th>\n",
              "      <th>4th Most Common Venue</th>\n",
              "      <th>5th Most Common Venue</th>\n",
              "    </tr>\n",
              "  </thead>\n",
              "  <tbody>\n",
              "    <tr>\n",
              "      <th>14</th>\n",
              "      <td>M5V</td>\n",
              "      <td>-79.39442</td>\n",
              "      <td>4</td>\n",
              "      <td>Airport Lounge</td>\n",
              "      <td>Airport Terminal</td>\n",
              "      <td>Harbor / Marina</td>\n",
              "      <td>Sculpture Garden</td>\n",
              "      <td>Airport Food Court</td>\n",
              "    </tr>\n",
              "  </tbody>\n",
              "</table>\n",
              "</div>"
            ],
            "text/plain": [
              "   Postcode  Longitude  ...  4th Most Common Venue 5th Most Common Venue\n",
              "14      M5V  -79.39442  ...       Sculpture Garden    Airport Food Court\n",
              "\n",
              "[1 rows x 8 columns]"
            ]
          },
          "metadata": {
            "tags": []
          },
          "execution_count": 32
        }
      ]
    },
    {
      "cell_type": "markdown",
      "metadata": {
        "id": "72o5x_8WFIxN",
        "colab_type": "text"
      },
      "source": [
        "We have used k-means to partition the neighbourhoods as specifed in the algorithm.\n",
        "\n",
        "The neighbourhood in each cluster are similar to each other in terms of the features included in the dataset, in this case based on their most frequented venues. \n",
        "\n",
        "For example, cluster 3 can be observed to be the most frequented location for cafes. This information can be useful for tourist when they are visiting the area."
      ]
    },
    {
      "cell_type": "markdown",
      "metadata": {
        "id": "84AC07U7679t",
        "colab_type": "text"
      },
      "source": [
        "# **Recommendations**\n",
        "\n",
        "It would be recommended to adjust the parameters according to the points of interest and run the cluster analysis again. This would be well suited based on different needs."
      ]
    },
    {
      "cell_type": "markdown",
      "metadata": {
        "id": "Xjb1_lLx5jUI",
        "colab_type": "text"
      },
      "source": [
        "# **Discussion and Conclusion**\n",
        "\n",
        "\n",
        "We have analyzed the top crimes that have occured in Toronto in 2018. This gives the user advice on the type of incidents that occur and the time at which they should be more cautious. \n",
        "\n",
        "Furthermore, we looked at how the neighbourhood of Downtown Toronto was clustered based on their most frequented venues. This provides the user with suggestion on what can be found and is popular with the people who frequent the location. \n",
        "\n",
        "\n",
        "In conclusion, this aims to provide tourist with tips and guides on where and when to stay cautious when travelling. \n",
        "\n"
      ]
    }
  ]
}